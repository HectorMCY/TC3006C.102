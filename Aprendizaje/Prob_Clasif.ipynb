{
  "nbformat": 4,
  "nbformat_minor": 0,
  "metadata": {
    "colab": {
      "provenance": []
    },
    "kernelspec": {
      "name": "python3",
      "display_name": "Python 3"
    },
    "language_info": {
      "name": "python"
    }
  },
  "cells": [
    {
      "cell_type": "markdown",
      "source": [
        "# **Actividad de clasificación**\n",
        "\n",
        "Héctor Manuel Cárdenas Yáñez - A01634615"
      ],
      "metadata": {
        "id": "Pt-51VsLtL0w"
      }
    },
    {
      "cell_type": "code",
      "source": [
        "# Importar Librerias\n",
        "\n",
        "import random\n",
        "import numpy as np\n",
        "from sklearn import datasets\n",
        "import matplotlib.pyplot as plt\n",
        "from sklearn.svm import SVC\n",
        "from sklearn.preprocessing import StandardScaler\n",
        "from sklearn.linear_model import LogisticRegression\n",
        "from sklearn.model_selection import StratifiedKFold, train_test_split, GridSearchCV, cross_val_predict, cross_val_score\n",
        "from sklearn.metrics import classification_report, accuracy_score\n",
        "from sklearn.neighbors import KNeighborsClassifier\n",
        "from sklearn.tree import DecisionTreeClassifier\n",
        "from sklearn.discriminant_analysis import LinearDiscriminantAnalysis\n",
        "from sklearn.feature_selection import SelectKBest, f_classif, SequentialFeatureSelector, RFE"
      ],
      "metadata": {
        "id": "HiWDlCiDt3db"
      },
      "execution_count": null,
      "outputs": []
    },
    {
      "cell_type": "markdown",
      "source": [
        "## **Actividad 1**\n",
        "\n"
      ],
      "metadata": {
        "id": "7lxe90AdtZyl"
      }
    },
    {
      "cell_type": "code",
      "execution_count": null,
      "metadata": {
        "id": "-IW2GpGftLMW"
      },
      "outputs": [],
      "source": [
        "# Cargar la actividad\n",
        "data = np.loadtxt(\"P1_3.txt\")\n",
        "x = data[:,2:]\n",
        "y = data[:,0]"
      ]
    },
    {
      "cell_type": "markdown",
      "source": [
        "1.\n",
        "### Determina si es necesario balancear los datos. En caso de que sea afirmativo, en todo este ejercicio tendrás que utilizar alguna estrategia para mitigar el problema de tener una muestra desbalanceada."
      ],
      "metadata": {
        "id": "IUARbxjRdv6z"
      }
    },
    {
      "cell_type": "code",
      "source": [
        "# Calcular la cantidad de muestras de cada clase\n",
        "cantidad_clase_1 = np.sum(y == 1)\n",
        "cantidad_clase_2 = np.sum(y == 2)\n",
        "\n",
        "# Imprimir la cantidad de muestras de cada clase\n",
        "print(f'Cantidad de muestras de clase 1: {cantidad_clase_1}')\n",
        "print(f'Cantidad de muestras de clase 2: {cantidad_clase_2}')"
      ],
      "metadata": {
        "colab": {
          "base_uri": "https://localhost:8080/"
        },
        "id": "EQ8AcEM8PA-W",
        "outputId": "cc131b55-8bd9-4426-ca3f-70369e3caaf8"
      },
      "execution_count": null,
      "outputs": [
        {
          "output_type": "stream",
          "name": "stdout",
          "text": [
            "Cantidad de muestras de clase 1: 298\n",
            "Cantidad de muestras de clase 2: 1496\n"
          ]
        }
      ]
    },
    {
      "cell_type": "code",
      "source": [
        "##### Accuracy with imbalanced sample #####\n",
        "\n",
        "print(\"----- Imbalanced sample -----\")\n",
        "x = data[:,2:]\n",
        "y = data[:,0]\n",
        "\n",
        "kf = StratifiedKFold(n_splits=5, shuffle = True)\n",
        "clf = SVC(kernel = 'linear')\n",
        "\n",
        "cv_y_test = []\n",
        "cv_y_pred = []\n",
        "\n",
        "for train_index, test_index in kf.split(x, y):\n",
        "\n",
        "    # Training phase\n",
        "    x_train = x[train_index, :]\n",
        "    y_train = y[train_index]\n",
        "    clf.fit(x_train, y_train)\n",
        "\n",
        "    # Test phase\n",
        "    x_test = x[test_index, :]\n",
        "    y_test = y[test_index]\n",
        "    y_pred = clf.predict(x_test)\n",
        "\n",
        "    cv_y_test.append(y_test)\n",
        "    cv_y_pred.append(y_pred)\n",
        "\n",
        "print(classification_report(np.concatenate(cv_y_test), np.concatenate(cv_y_pred)))\n",
        "\n",
        "##### Accuracy with balanced sample (Subsamplig) #####\n",
        "\n",
        "print(\"----- Subsamplig -----\")\n",
        "\n",
        "clf = SVC(kernel = 'linear')\n",
        "kf = StratifiedKFold(n_splits=5, shuffle = True)\n",
        "\n",
        "cv_y_test = []\n",
        "cv_y_pred = []\n",
        "\n",
        "for train_index, test_index in kf.split(x, y):\n",
        "\n",
        "    # Training phase\n",
        "    x_train = x[train_index, :]\n",
        "    y_train = y[train_index]\n",
        "\n",
        "    x1 = x_train[y_train==1, :]\n",
        "    y1 = y_train[y_train==1]\n",
        "    n1 = len(y1)\n",
        "\n",
        "    x2 = x_train[y_train==2, :]\n",
        "    y2 = y_train[y_train==2]\n",
        "    n2 = len(y2)\n",
        "\n",
        "    ind = random.sample([i for i in range(n2)], n1)\n",
        "\n",
        "    x_sub = np.concatenate((x1, x2[ind,:]), axis=0)\n",
        "    y_sub = np.concatenate((y1, y2[ind]), axis=0)\n",
        "\n",
        "    clf.fit(x_sub, y_sub)\n",
        "\n",
        "    # Test phase\n",
        "    x_test = x[test_index, :]\n",
        "    y_test = y[test_index]\n",
        "    y_pred = clf.predict(x_test)\n",
        "\n",
        "    cv_y_test.append(y_test)\n",
        "    cv_y_pred.append(y_pred)\n",
        "\n",
        "print(classification_report(np.concatenate(cv_y_test), np.concatenate(cv_y_pred)))\n",
        "\n",
        "##### Accuracy with balanced sample (Upsampling) #####\n",
        "print(\"----- Upsampling -----\")\n",
        "\n",
        "clf = SVC(kernel = 'linear')\n",
        "kf = StratifiedKFold(n_splits=5, shuffle = True)\n",
        "\n",
        "cv_y_test = []\n",
        "cv_y_pred = []\n",
        "\n",
        "for train_index, test_index in kf.split(x, y):\n",
        "\n",
        "    # Training phase\n",
        "    x_train = x[train_index, :]\n",
        "    y_train = y[train_index]\n",
        "\n",
        "    x1 = x_train[y_train==1, :]\n",
        "    y1 = y_train[y_train==1]\n",
        "    n1 = len(y1)\n",
        "\n",
        "    x2 = x_train[y_train==2, :]\n",
        "    y2 = y_train[y_train==2]\n",
        "    n2 = len(y2)\n",
        "\n",
        "    ind = random.choices([i for i in range(n1)], k = n2)\n",
        "\n",
        "    x_sub = np.concatenate((x1[ind,:], x2), axis=0)\n",
        "    y_sub = np.concatenate((y1[ind], y2), axis=0)\n",
        "\n",
        "    clf.fit(x_sub, y_sub)\n",
        "\n",
        "    # Test phase\n",
        "    x_test = x[test_index, :]\n",
        "    y_test = y[test_index]\n",
        "    y_pred = clf.predict(x_test)\n",
        "\n",
        "    cv_y_test.append(y_test)\n",
        "    cv_y_pred.append(y_pred)\n",
        "\n",
        "print(classification_report(np.concatenate(cv_y_test), np.concatenate(cv_y_pred)))\n",
        "\n",
        "##### Accuracy with balanced sample (weighted loss function) #####\n",
        "\n",
        "print(\"----- Weighted loss function -----\")\n",
        "x = data[:,2:]\n",
        "y = data[:,0]\n",
        "\n",
        "clf = SVC(kernel = 'linear', class_weight='balanced')\n",
        "kf = StratifiedKFold(n_splits=5, shuffle = True)\n",
        "\n",
        "cv_y_test = []\n",
        "cv_y_pred = []\n",
        "\n",
        "for train_index, test_index in kf.split(x, y):\n",
        "\n",
        "    # Training phase\n",
        "    x_train = x[train_index, :]\n",
        "    y_train = y[train_index]\n",
        "    clf.fit(x_train, y_train)\n",
        "\n",
        "    # Test phase\n",
        "    x_test = x[test_index, :]\n",
        "    y_test = y[test_index]\n",
        "    y_pred = clf.predict(x_test)\n",
        "\n",
        "    cv_y_test.append(y_test)\n",
        "    cv_y_pred.append(y_pred)\n",
        "\n",
        "print(classification_report(np.concatenate(cv_y_test), np.concatenate(cv_y_pred)))"
      ],
      "metadata": {
        "colab": {
          "base_uri": "https://localhost:8080/"
        },
        "id": "zMUKuBv2PI65",
        "outputId": "ba8d7cae-1623-4a8b-ee87-6aee3c664526"
      },
      "execution_count": null,
      "outputs": [
        {
          "output_type": "stream",
          "name": "stdout",
          "text": [
            "----- Imbalanced sample -----\n",
            "              precision    recall  f1-score   support\n",
            "\n",
            "         1.0       0.74      0.68      0.71       298\n",
            "         2.0       0.94      0.95      0.94      1496\n",
            "\n",
            "    accuracy                           0.91      1794\n",
            "   macro avg       0.84      0.82      0.83      1794\n",
            "weighted avg       0.90      0.91      0.91      1794\n",
            "\n",
            "----- Subsamplig -----\n",
            "              precision    recall  f1-score   support\n",
            "\n",
            "         1.0       0.50      0.83      0.62       298\n",
            "         2.0       0.96      0.83      0.89      1496\n",
            "\n",
            "    accuracy                           0.83      1794\n",
            "   macro avg       0.73      0.83      0.76      1794\n",
            "weighted avg       0.88      0.83      0.85      1794\n",
            "\n",
            "----- Upsampling -----\n",
            "              precision    recall  f1-score   support\n",
            "\n",
            "         1.0       0.58      0.84      0.69       298\n",
            "         2.0       0.96      0.88      0.92      1496\n",
            "\n",
            "    accuracy                           0.87      1794\n",
            "   macro avg       0.77      0.86      0.80      1794\n",
            "weighted avg       0.90      0.87      0.88      1794\n",
            "\n",
            "----- Weighted loss function -----\n",
            "              precision    recall  f1-score   support\n",
            "\n",
            "         1.0       0.57      0.82      0.67       298\n",
            "         2.0       0.96      0.88      0.92      1496\n",
            "\n",
            "    accuracy                           0.87      1794\n",
            "   macro avg       0.76      0.85      0.79      1794\n",
            "weighted avg       0.89      0.87      0.88      1794\n",
            "\n"
          ]
        }
      ]
    },
    {
      "cell_type": "markdown",
      "source": [
        "2.\n",
        "### Evalúa al menos 5 modelos de clasificación distintos utilizando validación cruzada, y determina cuál de ellos es el más efectivo."
      ],
      "metadata": {
        "id": "a1oL7zOrd0Cl"
      }
    },
    {
      "cell_type": "code",
      "source": [
        "features = x\n",
        "n_features = len(x)\n",
        "\n",
        "# Linear SVM\n",
        "print('----- Linear-SVM -----')\n",
        "clf = SVC(kernel = 'linear')\n",
        "kf = StratifiedKFold(n_splits=5, shuffle = True)\n",
        "\n",
        "cv_y_test = []\n",
        "cv_y_pred = []\n",
        "\n",
        "for train_index, test_index in kf.split(x, y):\n",
        "\n",
        "    x_train = x[train_index, :]\n",
        "    y_train = y[train_index]\n",
        "\n",
        "    x_test = x[test_index, :]\n",
        "    y_test = y[test_index]\n",
        "\n",
        "    clf = SVC(kernel = 'linear')\n",
        "    clf.fit(x_train, y_train)\n",
        "\n",
        "    y_pred = clf.predict(x_test)\n",
        "\n",
        "    cv_y_test.append(y_test)\n",
        "    cv_y_pred.append(y_pred)\n",
        "\n",
        "print(classification_report(np.concatenate(cv_y_test), np.concatenate(cv_y_pred)))"
      ],
      "metadata": {
        "colab": {
          "base_uri": "https://localhost:8080/"
        },
        "id": "WW1ewOP5fCG9",
        "outputId": "f75310cb-0c77-429d-f660-54da7115b7b0"
      },
      "execution_count": null,
      "outputs": [
        {
          "output_type": "stream",
          "name": "stdout",
          "text": [
            "----- Linear-SVM -----\n",
            "              precision    recall  f1-score   support\n",
            "\n",
            "         1.0       0.74      0.67      0.70       298\n",
            "         2.0       0.94      0.95      0.94      1496\n",
            "\n",
            "    accuracy                           0.91      1794\n",
            "   macro avg       0.84      0.81      0.82      1794\n",
            "weighted avg       0.90      0.91      0.90      1794\n",
            "\n"
          ]
        }
      ]
    },
    {
      "cell_type": "code",
      "source": [
        "# KNN\n",
        "print('----- KNN -----')\n",
        "kf = StratifiedKFold(n_splits=5, shuffle = True)\n",
        "\n",
        "cv_y_test = []\n",
        "cv_y_pred = []\n",
        "\n",
        "for train_index, test_index in kf.split(x, y):\n",
        "\n",
        "    x_train = x[train_index, :]\n",
        "    y_train = y[train_index]\n",
        "\n",
        "    x_test = x[test_index, :]\n",
        "    y_test = y[test_index]\n",
        "\n",
        "    clf = KNeighborsClassifier(n_neighbors=3)\n",
        "    clf.fit(x_train, y_train)\n",
        "\n",
        "    y_pred = clf.predict(x_test)\n",
        "\n",
        "    cv_y_test.append(y_test)\n",
        "    cv_y_pred.append(y_pred)\n",
        "\n",
        "print(classification_report(np.concatenate(cv_y_test), np.concatenate(cv_y_pred)))"
      ],
      "metadata": {
        "colab": {
          "base_uri": "https://localhost:8080/"
        },
        "id": "UfEJM1QvkSQm",
        "outputId": "9376f5c9-72a2-4164-d34e-bf076d9be39a"
      },
      "execution_count": null,
      "outputs": [
        {
          "output_type": "stream",
          "name": "stdout",
          "text": [
            "----- KNN -----\n",
            "              precision    recall  f1-score   support\n",
            "\n",
            "         1.0       0.64      0.41      0.50       298\n",
            "         2.0       0.89      0.95      0.92      1496\n",
            "\n",
            "    accuracy                           0.86      1794\n",
            "   macro avg       0.76      0.68      0.71      1794\n",
            "weighted avg       0.85      0.86      0.85      1794\n",
            "\n"
          ]
        }
      ]
    },
    {
      "cell_type": "code",
      "source": [
        "# RBF SVM\n",
        "print('----- RBF-SVM -----')\n",
        "kf = StratifiedKFold(n_splits=5, shuffle = True)\n",
        "\n",
        "cv_y_test = []\n",
        "cv_y_pred = []\n",
        "\n",
        "for train_index, test_index in kf.split(x, y):\n",
        "\n",
        "    x_train = x[train_index, :]\n",
        "    y_train = y[train_index]\n",
        "\n",
        "    x_test = x[test_index, :]\n",
        "    y_test = y[test_index]\n",
        "\n",
        "    clf = SVC(kernel = 'rbf')\n",
        "    clf.fit(x_train, y_train)\n",
        "\n",
        "    y_pred = clf.predict(x_test)\n",
        "\n",
        "    cv_y_test.append(y_test)\n",
        "    cv_y_pred.append(y_pred)\n",
        "\n",
        "print(classification_report(np.concatenate(cv_y_test), np.concatenate(cv_y_pred)))"
      ],
      "metadata": {
        "colab": {
          "base_uri": "https://localhost:8080/"
        },
        "id": "Xk_hAdzfkd9i",
        "outputId": "ed9c3fe3-f9ad-4ea8-cd42-ddb6528b954c"
      },
      "execution_count": null,
      "outputs": [
        {
          "output_type": "stream",
          "name": "stdout",
          "text": [
            "----- RBF-SVM -----\n",
            "              precision    recall  f1-score   support\n",
            "\n",
            "         1.0       0.88      0.59      0.70       298\n",
            "         2.0       0.92      0.98      0.95      1496\n",
            "\n",
            "    accuracy                           0.92      1794\n",
            "   macro avg       0.90      0.79      0.83      1794\n",
            "weighted avg       0.92      0.92      0.91      1794\n",
            "\n"
          ]
        }
      ]
    },
    {
      "cell_type": "code",
      "source": [
        "# Linear Discriminant Analysis\n",
        "print('----- Linear Discriminant Analysis -----')\n",
        "\n",
        "kf = StratifiedKFold(n_splits=5, shuffle = True)\n",
        "\n",
        "cv_y_test = []\n",
        "cv_y_pred = []\n",
        "\n",
        "for train_index, test_index in kf.split(x, y):\n",
        "\n",
        "    x_train = x[train_index, :]\n",
        "    y_train = y[train_index]\n",
        "\n",
        "    x_test = x[test_index, :]\n",
        "    y_test = y[test_index]\n",
        "\n",
        "    clf = LinearDiscriminantAnalysis()\n",
        "    clf.fit(x_train, y_train)\n",
        "\n",
        "    y_pred = clf.predict(x_test)\n",
        "\n",
        "    cv_y_test.append(y_test)\n",
        "    cv_y_pred.append(y_pred)\n",
        "\n",
        "print(classification_report(np.concatenate(cv_y_test), np.concatenate(cv_y_pred)))"
      ],
      "metadata": {
        "colab": {
          "base_uri": "https://localhost:8080/"
        },
        "id": "RuhQeHzkkmak",
        "outputId": "c7ffc67f-e366-456b-c83d-252d98022307"
      },
      "execution_count": null,
      "outputs": [
        {
          "output_type": "stream",
          "name": "stdout",
          "text": [
            "----- Linear Discriminant Analysis -----\n",
            "              precision    recall  f1-score   support\n",
            "\n",
            "         1.0       0.69      0.63      0.66       298\n",
            "         2.0       0.93      0.94      0.94      1496\n",
            "\n",
            "    accuracy                           0.89      1794\n",
            "   macro avg       0.81      0.79      0.80      1794\n",
            "weighted avg       0.89      0.89      0.89      1794\n",
            "\n"
          ]
        }
      ]
    },
    {
      "cell_type": "code",
      "source": [
        "# Decision tree\n",
        "print('----- Decision tree -----')\n",
        "kf = StratifiedKFold(n_splits=5, shuffle = True)\n",
        "\n",
        "cv_y_test = []\n",
        "cv_y_pred = []\n",
        "\n",
        "for train_index, test_index in kf.split(x, y):\n",
        "\n",
        "    x_train = x[train_index, :]\n",
        "    y_train = y[train_index]\n",
        "\n",
        "    x_test = x[test_index, :]\n",
        "    y_test = y[test_index]\n",
        "\n",
        "    clf = DecisionTreeClassifier()\n",
        "    clf.fit(x_train, y_train)\n",
        "\n",
        "    y_pred = clf.predict(x_test)\n",
        "\n",
        "    cv_y_test.append(y_test)\n",
        "    cv_y_pred.append(y_pred)\n",
        "\n",
        "print(classification_report(np.concatenate(cv_y_test), np.concatenate(cv_y_pred)))"
      ],
      "metadata": {
        "colab": {
          "base_uri": "https://localhost:8080/"
        },
        "id": "uq5zIbuDk32V",
        "outputId": "ade311df-91ce-4892-a445-a7b308bac0d8"
      },
      "execution_count": null,
      "outputs": [
        {
          "output_type": "stream",
          "name": "stdout",
          "text": [
            "----- Decision tree -----\n",
            "              precision    recall  f1-score   support\n",
            "\n",
            "         1.0       0.43      0.41      0.42       298\n",
            "         2.0       0.88      0.89      0.89      1496\n",
            "\n",
            "    accuracy                           0.81      1794\n",
            "   macro avg       0.65      0.65      0.65      1794\n",
            "weighted avg       0.81      0.81      0.81      1794\n",
            "\n"
          ]
        }
      ]
    },
    {
      "cell_type": "markdown",
      "source": [
        "3.\n",
        "### Implementa desde cero el método de regresión logística, y evalúalo con el conjunto de datos."
      ],
      "metadata": {
        "id": "5_wxw56GlIlB"
      }
    },
    {
      "cell_type": "code",
      "source": [
        "# Dividimos el conjunto de datos en entrenamiento y prueba\n",
        "X_train, X_test, y_train, y_test = train_test_split(x, y, test_size=0.2, random_state=42)\n",
        "\n",
        "# Estandarizamos los datos\n",
        "scaler = StandardScaler()\n",
        "X_train = scaler.fit_transform(X_train)\n",
        "X_test = scaler.transform(X_test)\n",
        "\n",
        "# Creamos un modelo de regresión logística\n",
        "model = LogisticRegression()\n",
        "\n",
        "# Entrenamos el modelo en los datos de entrenamiento\n",
        "model.fit(X_train, y_train)\n",
        "\n",
        "# Realizamos predicciones en los datos de prueba\n",
        "y_pred = model.predict(X_test)\n",
        "\n",
        "# Evaluamos el rendimiento del modelo\n",
        "accuracy = accuracy_score(y_test, y_pred)\n",
        "print(f\"Precisión del modelo: {accuracy * 100:.2f}%\")"
      ],
      "metadata": {
        "id": "lfg-CvWRlNOr",
        "colab": {
          "base_uri": "https://localhost:8080/"
        },
        "outputId": "9b5bca5e-0cc6-4ba7-9920-4302226289ad"
      },
      "execution_count": null,
      "outputs": [
        {
          "output_type": "stream",
          "name": "stdout",
          "text": [
            "Precisión del modelo: 89.97%\n"
          ]
        }
      ]
    },
    {
      "cell_type": "markdown",
      "source": [
        "4.\n",
        "### Con alguno de los clasificadores que probaste en los pasos anteriores, determina el número óptimo de características utilizando un método tipo Filter"
      ],
      "metadata": {
        "id": "U6eQIlaUnCPo"
      }
    },
    {
      "cell_type": "code",
      "source": [
        "# Reduce number of features to the half\n",
        "\n",
        "print(\"----- Feature selection using 50% of predictors -----\")\n",
        "\n",
        "# Select features\n",
        "fselection = SelectKBest(f_classif, k = 6)\n",
        "fselection.fit(x, y)\n",
        "\n",
        "print(\"Selected features: \", fselection.get_feature_names_out())\n",
        "\n",
        "# Fit model using the new data set\n",
        "clf = SVC(kernel = 'linear')\n",
        "x_transformed = fselection.transform(x)\n",
        "clf.fit(x_transformed, y)\n",
        "\n",
        "# Evaluate model using cross validation\n",
        "cv_y_test = []\n",
        "cv_y_pred = []\n",
        "\n",
        "kf = StratifiedKFold(n_splits=5, shuffle = True)\n",
        "\n",
        "for train_index, test_index in kf.split(x, y):\n",
        "\n",
        "    # Training phase\n",
        "    x_train = x[train_index, :]\n",
        "    y_train = y[train_index]\n",
        "\n",
        "    clf_cv = SVC(kernel = 'linear')\n",
        "\n",
        "    fselection_cv = SelectKBest(f_classif, k = 6)\n",
        "    fselection_cv.fit(x_train, y_train)\n",
        "    x_train = fselection_cv.transform(x_train)\n",
        "\n",
        "    clf_cv.fit(x_train, y_train)\n",
        "\n",
        "    # Test phase\n",
        "    x_test = fselection_cv.transform(x[test_index, :])\n",
        "    y_test = y[test_index]\n",
        "    y_pred = clf_cv.predict(x_test)\n",
        "\n",
        "    cv_y_test.append(y_test)\n",
        "    cv_y_pred.append(y_pred)\n",
        "\n",
        "print(classification_report(np.concatenate(cv_y_test), np.concatenate(cv_y_pred)))\n",
        "\n",
        "\n",
        "# Find optimal number of features using cross-validation\n",
        "\n",
        "print(\"----- Optimal selection of number of features -----\")\n",
        "\n",
        "n_feats = [1, 2, 3, 4, 5, 6, 7, 8, 9, 10, 11, 12, 13]\n",
        "\n",
        "acc_nfeat = []\n",
        "\n",
        "for n_feat in n_feats:\n",
        "    print('---- n features =', n_feat)\n",
        "\n",
        "    acc_cv = []\n",
        "\n",
        "    kf = StratifiedKFold(n_splits=5, shuffle = True)\n",
        "\n",
        "    for train_index, test_index in kf.split(x, y):\n",
        "\n",
        "        # Training phase\n",
        "        x_train = x[train_index, :]\n",
        "        y_train = y[train_index]\n",
        "\n",
        "        clf_cv = SVC(kernel = 'linear')\n",
        "\n",
        "        fselection_cv = SelectKBest(f_classif, k = n_feat)\n",
        "        fselection_cv.fit(x_train, y_train)\n",
        "        x_train = fselection_cv.transform(x_train)\n",
        "\n",
        "        clf_cv.fit(x_train, y_train)\n",
        "\n",
        "        # Test phase\n",
        "        x_test = fselection_cv.transform(x[test_index, :])\n",
        "        y_test = y[test_index]\n",
        "        y_pred = clf_cv.predict(x_test)\n",
        "\n",
        "\n",
        "        acc_i = accuracy_score(y_test, y_pred)\n",
        "        acc_cv.append(acc_i)\n",
        "\n",
        "    acc = np.average(acc_cv)\n",
        "    acc_nfeat.append(acc)\n",
        "\n",
        "    print('ACC:', acc)\n",
        "\n",
        "opt_index = np.argmax(acc_nfeat)\n",
        "opt_features = n_feats[opt_index]\n",
        "print(\"Optimal number of features: \", opt_features)\n",
        "\n",
        "plt.plot(n_feats, acc_nfeat)\n",
        "plt.xlabel(\"features\")\n",
        "plt.ylabel(\"Accuracy\")\n",
        "\n",
        "plt.show()\n",
        "\n",
        "# Fit model with optimal number of features\n",
        "clf = SVC(kernel = 'linear')\n",
        "fselection = SelectKBest(f_classif, k = opt_features)\n",
        "fselection.fit(x, y)\n",
        "\n",
        "print(\"Selected features: \", fselection.get_feature_names_out())\n",
        "\n",
        "x_transformed = fselection.transform(x)\n",
        "clf.fit(x_transformed, y)"
      ],
      "metadata": {
        "colab": {
          "base_uri": "https://localhost:8080/",
          "height": 1000
        },
        "id": "2I8e_pUSkTYM",
        "outputId": "61abfc81-14df-4cb4-f1d9-ed78e9a43c1e"
      },
      "execution_count": null,
      "outputs": [
        {
          "output_type": "stream",
          "name": "stdout",
          "text": [
            "----- Feature selection using 50% of predictors -----\n",
            "Selected features:  ['x12' 'x16' 'x17' 'x18' 'x19' 'x20']\n",
            "              precision    recall  f1-score   support\n",
            "\n",
            "         1.0       0.73      0.19      0.30       298\n",
            "         2.0       0.86      0.99      0.92      1496\n",
            "\n",
            "    accuracy                           0.85      1794\n",
            "   macro avg       0.79      0.59      0.61      1794\n",
            "weighted avg       0.84      0.85      0.82      1794\n",
            "\n",
            "----- Optimal selection of number of features -----\n",
            "---- n features = 1\n",
            "ACC: 0.8338914738332738\n",
            "---- n features = 2\n",
            "ACC: 0.8338914738332738\n",
            "---- n features = 3\n",
            "ACC: 0.8338914738332738\n",
            "---- n features = 4\n",
            "ACC: 0.8400242759994399\n",
            "---- n features = 5\n",
            "ACC: 0.8533900810756135\n",
            "---- n features = 6\n",
            "ACC: 0.8561927140878604\n",
            "---- n features = 7\n",
            "ACC: 0.8673472245996795\n",
            "---- n features = 8\n",
            "ACC: 0.8684458691897106\n",
            "---- n features = 9\n",
            "ACC: 0.8745848959711179\n",
            "---- n features = 10\n",
            "ACC: 0.875137330573754\n",
            "---- n features = 11\n",
            "ACC: 0.8795879304710477\n",
            "---- n features = 12\n",
            "ACC: 0.8862933972393832\n",
            "---- n features = 13\n",
            "ACC: 0.8879429202782403\n",
            "Optimal number of features:  13\n"
          ]
        },
        {
          "output_type": "display_data",
          "data": {
            "text/plain": [
              "<Figure size 640x480 with 1 Axes>"
            ],
            "image/png": "[encoded data removed]"
          },
          "metadata": {}
        },
        {
          "output_type": "stream",
          "name": "stdout",
          "text": [
            "Selected features:  ['x11' 'x12' 'x16' 'x17' 'x18' 'x19' 'x20' 'x21' 'x27' 'x28' 'x29' 'x64'\n",
            " 'x65']\n"
          ]
        },
        {
          "output_type": "execute_result",
          "data": {
            "text/plain": [
              "SVC(kernel='linear')"
            ],
            "text/html": [
              "<style>#sk-container-id-1 {color: black;background-color: white;}#sk-container-id-1 pre{padding: 0;}#sk-container-id-1 div.sk-toggleable {background-color: white;}#sk-container-id-1 label.sk-toggleable__label {cursor: pointer;display: block;width: 100%;margin-bottom: 0;padding: 0.3em;box-sizing: border-box;text-align: center;}#sk-container-id-1 label.sk-toggleable__label-arrow:before {content: \"▸\";float: left;margin-right: 0.25em;color: #696969;}#sk-container-id-1 label.sk-toggleable__label-arrow:hover:before {color: black;}#sk-container-id-1 div.sk-estimator:hover label.sk-toggleable__label-arrow:before {color: black;}#sk-container-id-1 div.sk-toggleable__content {max-height: 0;max-width: 0;overflow: hidden;text-align: left;background-color: #f0f8ff;}#sk-container-id-1 div.sk-toggleable__content pre {margin: 0.2em;color: black;border-radius: 0.25em;background-color: #f0f8ff;}#sk-container-id-1 input.sk-toggleable__control:checked~div.sk-toggleable__content {max-height: 200px;max-width: 100%;overflow: auto;}#sk-container-id-1 input.sk-toggleable__control:checked~label.sk-toggleable__label-arrow:before {content: \"▾\";}#sk-container-id-1 div.sk-estimator input.sk-toggleable__control:checked~label.sk-toggleable__label {background-color: #d4ebff;}#sk-container-id-1 div.sk-label input.sk-toggleable__control:checked~label.sk-toggleable__label {background-color: #d4ebff;}#sk-container-id-1 input.sk-hidden--visually {border: 0;clip: rect(1px 1px 1px 1px);clip: rect(1px, 1px, 1px, 1px);height: 1px;margin: -1px;overflow: hidden;padding: 0;position: absolute;width: 1px;}#sk-container-id-1 div.sk-estimator {font-family: monospace;background-color: #f0f8ff;border: 1px dotted black;border-radius: 0.25em;box-sizing: border-box;margin-bottom: 0.5em;}#sk-container-id-1 div.sk-estimator:hover {background-color: #d4ebff;}#sk-container-id-1 div.sk-parallel-item::after {content: \"\";width: 100%;border-bottom: 1px solid gray;flex-grow: 1;}#sk-container-id-1 div.sk-label:hover label.sk-toggleable__label {background-color: #d4ebff;}#sk-container-id-1 div.sk-serial::before {content: \"\";position: absolute;border-left: 1px solid gray;box-sizing: border-box;top: 0;bottom: 0;left: 50%;z-index: 0;}#sk-container-id-1 div.sk-serial {display: flex;flex-direction: column;align-items: center;background-color: white;padding-right: 0.2em;padding-left: 0.2em;position: relative;}#sk-container-id-1 div.sk-item {position: relative;z-index: 1;}#sk-container-id-1 div.sk-parallel {display: flex;align-items: stretch;justify-content: center;background-color: white;position: relative;}#sk-container-id-1 div.sk-item::before, #sk-container-id-1 div.sk-parallel-item::before {content: \"\";position: absolute;border-left: 1px solid gray;box-sizing: border-box;top: 0;bottom: 0;left: 50%;z-index: -1;}#sk-container-id-1 div.sk-parallel-item {display: flex;flex-direction: column;z-index: 1;position: relative;background-color: white;}#sk-container-id-1 div.sk-parallel-item:first-child::after {align-self: flex-end;width: 50%;}#sk-container-id-1 div.sk-parallel-item:last-child::after {align-self: flex-start;width: 50%;}#sk-container-id-1 div.sk-parallel-item:only-child::after {width: 0;}#sk-container-id-1 div.sk-dashed-wrapped {border: 1px dashed gray;margin: 0 0.4em 0.5em 0.4em;box-sizing: border-box;padding-bottom: 0.4em;background-color: white;}#sk-container-id-1 div.sk-label label {font-family: monospace;font-weight: bold;display: inline-block;line-height: 1.2em;}#sk-container-id-1 div.sk-label-container {text-align: center;}#sk-container-id-1 div.sk-container {/* jupyter's `normalize.less` sets `[hidden] { display: none; }` but bootstrap.min.css set `[hidden] { display: none !important; }` so we also need the `!important` here to be able to override the default hidden behavior on the sphinx rendered scikit-learn.org. See: https://github.com/scikit-learn/scikit-learn/issues/21755 */display: inline-block !important;position: relative;}#sk-container-id-1 div.sk-text-repr-fallback {display: none;}</style><div id=\"sk-container-id-1\" class=\"sk-top-container\"><div class=\"sk-text-repr-fallback\"><pre>SVC(kernel=&#x27;linear&#x27;)</pre><b>In a Jupyter environment, please rerun this cell to show the HTML representation or trust the notebook. <br />On GitHub, the HTML representation is unable to render, please try loading this page with nbviewer.org.</b></div><div class=\"sk-container\" hidden><div class=\"sk-item\"><div class=\"sk-estimator sk-toggleable\"><input class=\"sk-toggleable__control sk-hidden--visually\" id=\"sk-estimator-id-1\" type=\"checkbox\" checked><label for=\"sk-estimator-id-1\" class=\"sk-toggleable__label sk-toggleable__label-arrow\">SVC</label><div class=\"sk-toggleable__content\"><pre>SVC(kernel=&#x27;linear&#x27;)</pre></div></div></div></div></div>"
            ]
          },
          "metadata": {},
          "execution_count": 14
        }
      ]
    },
    {
      "cell_type": "markdown",
      "source": [
        "5.\n",
        "### Repite el paso anterior, pero para un método de selección de características de tipo Wrapper."
      ],
      "metadata": {
        "id": "vbIBe0lknatw"
      }
    },
    {
      "cell_type": "code",
      "source": [
        "# Reduce number of features to the half\n",
        "print(\"----- Feature selection using 50% of predictors -----\")\n",
        "\n",
        "# Select features\n",
        "clf = SVC(kernel = 'linear')\n",
        "fselection = SequentialFeatureSelector(clf, n_features_to_select = 0.5)\n",
        "fselection.fit(x, y)\n",
        "print(\"Selected features: \", fselection.get_feature_names_out())\n",
        "\n",
        "# Fit model using the new data set\n",
        "x_transformed = fselection.transform(x)\n",
        "clf.fit(x_transformed, y)\n",
        "\n",
        "# Evaluate model using cross validation\n",
        "cv_y_test = []\n",
        "cv_y_pred = []\n",
        "kf = StratifiedKFold(n_splits=5, shuffle = True)\n",
        "for train_index, test_index in kf.split(x, y):\n",
        "\n",
        "  # Training phase\n",
        "  x_train = x[train_index, :]\n",
        "  y_train = y[train_index]\n",
        "  clf_cv = SVC(kernel = 'linear')\n",
        "  fselection_cv = SequentialFeatureSelector(clf_cv, n_features_to_select=0.5)\n",
        "  fselection_cv.fit(x_train, y_train)\n",
        "  x_train = fselection_cv.transform(x_train)\n",
        "  clf_cv.fit(x_train, y_train)\n",
        "\n",
        "  # Test phase\n",
        "  x_test = fselection_cv.transform(x[test_index, :])\n",
        "  y_test = y[test_index]\n",
        "  y_pred = clf_cv.predict(x_test)\n",
        "  cv_y_test.append(y_test)\n",
        "  cv_y_pred.append(y_pred)\n",
        "\n",
        "print(classification_report(np.concatenate(cv_y_test), np.concatenate(cv_y_pred)))\n",
        "\n",
        "# Find optimal number of features using cross-validation\n",
        "print(\"----- Optimal selection of number of features -----\")\n",
        "n_feats = [1, 2, 3, 4, 5, 6, 7, 8, 9]\n",
        "acc_nfeat = []\n",
        "\n",
        "for n_feat in n_feats:\n",
        "  print('---- n features =', n_feat)\n",
        "  acc_cv = []\n",
        "  kf = StratifiedKFold(n_splits=5, shuffle = True)\n",
        "  for train_index, test_index in kf.split(x, y):\n",
        "\n",
        "    # Training phase\n",
        "    x_train = x[train_index, :]\n",
        "    y_train = y[train_index]\n",
        "    clf_cv = SVC(kernel = 'linear')\n",
        "    fselection_cv = SequentialFeatureSelector(clf_cv,\n",
        "    n_features_to_select=n_feat)\n",
        "    fselection_cv.fit(x_train, y_train)\n",
        "    x_train = fselection_cv.transform(x_train)\n",
        "    clf_cv.fit(x_train, y_train)\n",
        "\n",
        "    # Test phase\n",
        "    x_test = fselection_cv.transform(x[test_index, :])\n",
        "    y_test = y[test_index]\n",
        "    y_pred = clf_cv.predict(x_test)\n",
        "    acc_i = accuracy_score(y_test, y_pred)\n",
        "    acc_cv.append(acc_i)\n",
        "\n",
        "  acc = np.average(acc_cv)\n",
        "  acc_nfeat.append(acc)\n",
        "  print('ACC:', acc)\n",
        "\n",
        "opt_index = np.argmax(acc_nfeat)\n",
        "opt_features = n_feats[opt_index]\n",
        "print(\"Optimal number of features: \", opt_features)\n",
        "plt.plot(n_feats, acc_nfeat)\n",
        "plt.xlabel(\"features\")\n",
        "plt.ylabel(\"Accuracy\")\n",
        "plt.show()\n",
        "\n",
        "# Fit model with optimal number of features\n",
        "clf = SVC(kernel = 'linear')\n",
        "fselection = SequentialFeatureSelector(clf, n_features_to_select = opt_features)\n",
        "fselection.fit(x, y)\n",
        "print(\"Selected features: \", fselection.get_feature_names_out())\n",
        "x_transformed = fselection.transform(x)\n",
        "clf.fit(x_transformed, y)"
      ],
      "metadata": {
        "id": "Hk5-OMgOne-3"
      },
      "execution_count": null,
      "outputs": []
    },
    {
      "cell_type": "markdown",
      "source": [
        "No es posible implementar el método de Wrapper. Tarda demasiado corriendo y eventualmente regresa un error."
      ],
      "metadata": {
        "id": "5PLHNkrJwPFP"
      }
    },
    {
      "cell_type": "markdown",
      "source": [
        "6.\n",
        "### Repite el paso 4, pero para un método de selección de características de tipo Filter-Wrapper."
      ],
      "metadata": {
        "id": "GqpEwlz5nOVM"
      }
    },
    {
      "cell_type": "code",
      "source": [
        "# Reduce number of features to the half\n",
        "\n",
        "print(\"----- Feature selection using 50% of predictors -----\")\n",
        "\n",
        "# Select features\n",
        "clf = SVC(kernel = 'linear')\n",
        "fselection = RFE(clf, n_features_to_select = 0.5)\n",
        "fselection.fit(x, y)\n",
        "print(\"Selected features: \", fselection.get_feature_names_out())\n",
        "\n",
        "# Fit model using the new data set\n",
        "x_transformed = fselection.transform(x)\n",
        "clf.fit(x_transformed, y)\n",
        "\n",
        "# Evaluate model using cross validation\n",
        "cv_y_test = []\n",
        "cv_y_pred = []\n",
        "kf = StratifiedKFold(n_splits=5, shuffle = True)\n",
        "for train_index, test_index in kf.split(x, y):\n",
        "\n",
        "  # Training phase\n",
        "  x_train = x[train_index, :]\n",
        "  y_train = y[train_index]\n",
        "  clf_cv = SVC(kernel = 'linear')\n",
        "  fselection_cv = RFE(clf_cv, n_features_to_select=0.5)\n",
        "  fselection_cv.fit(x_train, y_train)\n",
        "  x_train = fselection_cv.transform(x_train)\n",
        "  clf_cv.fit(x_train, y_train)\n",
        "\n",
        "  # Test phase\n",
        "  x_test = fselection_cv.transform(x[test_index, :])\n",
        "  y_test = y[test_index]\n",
        "  y_pred = clf_cv.predict(x_test)\n",
        "  cv_y_test.append(y_test)\n",
        "  cv_y_pred.append(y_pred)\n",
        "\n",
        "print(classification_report(np.concatenate(cv_y_test), np.concatenate(cv_y_pred)))\n",
        "\n",
        "# Find optimal number of features using cross-validation\n",
        "\n",
        "print(\"----- Optimal selection of number of features -----\")\n",
        "n_feats = [1, 2, 3, 4, 5, 6, 7, 8, 9, 10, 11, 12, 13]\n",
        "acc_nfeat = []\n",
        "for n_feat in n_feats:\n",
        "  print('---- n features =', n_feat)\n",
        "  acc_cv = []\n",
        "  kf = StratifiedKFold(n_splits=5, shuffle = True)\n",
        "\n",
        "  for train_index, test_index in kf.split(x, y):\n",
        "    # Training phase\n",
        "    x_train = x[train_index, :]\n",
        "    y_train = y[train_index]\n",
        "    clf_cv = SVC(kernel = 'linear')\n",
        "    fselection_cv = RFE(clf_cv, n_features_to_select=n_feat)\n",
        "    fselection_cv.fit(x_train, y_train)\n",
        "    x_train = fselection_cv.transform(x_train)\n",
        "    clf_cv.fit(x_train, y_train)\n",
        "\n",
        "    # Test phase\n",
        "    x_test = fselection_cv.transform(x[test_index, :])\n",
        "    y_test = y[test_index]\n",
        "    y_pred = clf_cv.predict(x_test)\n",
        "    acc_i = accuracy_score(y_test, y_pred)\n",
        "    acc_cv.append(acc_i)\n",
        "\n",
        "  acc = np.average(acc_cv)\n",
        "  acc_nfeat.append(acc)\n",
        "  print('ACC:', acc)\n",
        "\n",
        "opt_index = np.argmax(acc_nfeat)\n",
        "opt_features = n_feats[opt_index]\n",
        "print(\"Optimal number of features: \", opt_features)\n",
        "\n",
        "plt.plot(n_feats, acc_nfeat)\n",
        "plt.xlabel(\"features\")\n",
        "plt.ylabel(\"Accuracy\")\n",
        "plt.show()\n",
        "\n",
        "# Fit model with optimal number of features\n",
        "clf = SVC(kernel = 'linear')\n",
        "fselection = RFE(clf, n_features_to_select = opt_features)\n",
        "fselection.fit(x, y)\n",
        "print(\"Selected features: \", fselection.get_feature_names_out())\n",
        "x_transformed = fselection.transform(x)\n",
        "clf.fit(x_transformed, y)"
      ],
      "metadata": {
        "id": "B3UhPpqNwjRL"
      },
      "execution_count": null,
      "outputs": []
    },
    {
      "cell_type": "markdown",
      "source": [
        "El código tarda más de 20 minutos para correr. Si bien si es posible implementar el método Filter-Wrapper para este escenario, no es los más conveniente. El tiempo que se tarda considerando el tamñano de la muestra demuestra que no es el método más efficiente."
      ],
      "metadata": {
        "id": "hrUowygmewmC"
      }
    },
    {
      "cell_type": "markdown",
      "source": [
        "7.\n",
        "### Escoge alguna de las técnicas de selección de características que probaste con anteioridad, y con el número óptimo de características encontrado, prepara tu modelo para producción haciendo lo siguiente:\n",
        "\n",
        "A. Aplica el método de selección de características con todos los datos.\n",
        "\n",
        "B. Ajusta el modelo con las características encontradas."
      ],
      "metadata": {
        "id": "Krj0p4QrdoWd"
      }
    },
    {
      "cell_type": "code",
      "source": [
        "# Reduce number of features to the half\n",
        "print(\"----- Feature selection using 50% of predictors -----\")\n",
        "\n",
        "# Select features\n",
        "fselection = SelectKBest(f_classif, k = 6)\n",
        "fselection.fit(x, y)\n",
        "\n",
        "print(\"Selected features: \", fselection.get_feature_names_out())\n",
        "\n",
        "# Fit model using the new data set\n",
        "clf = SVC(kernel = 'linear')\n",
        "x_transformed = fselection.transform(x)\n",
        "clf.fit(x_transformed, y)\n",
        "\n",
        "# Evaluate model using cross validation\n",
        "cv_y_test = []\n",
        "cv_y_pred = []\n",
        "\n",
        "kf = StratifiedKFold(n_splits=5, shuffle = True)\n",
        "\n",
        "for train_index, test_index in kf.split(x, y):\n",
        "\n",
        "    # Training phase\n",
        "    x_train = x[train_index, :]\n",
        "    y_train = y[train_index]\n",
        "\n",
        "    clf_cv = SVC(kernel = 'linear')\n",
        "\n",
        "    fselection_cv = SelectKBest(f_classif, k = 6)\n",
        "    fselection_cv.fit(x_train, y_train)\n",
        "    x_train = fselection_cv.transform(x_train)\n",
        "\n",
        "    clf_cv.fit(x_train, y_train)\n",
        "\n",
        "    # Test phase\n",
        "    x_test = fselection_cv.transform(x[test_index, :])\n",
        "    y_test = y[test_index]\n",
        "    y_pred = clf_cv.predict(x_test)\n",
        "\n",
        "    cv_y_test.append(y_test)\n",
        "    cv_y_pred.append(y_pred)\n",
        "\n",
        "print(classification_report(np.concatenate(cv_y_test), np.concatenate(cv_y_pred)))\n",
        "\n",
        "\n",
        "# Find optimal number of features using cross-validation\n",
        "print(\"----- Optimal selection of number of features -----\")\n",
        "\n",
        "n_feats = [i for i in range (1,151)]\n",
        "\n",
        "acc_nfeat = []\n",
        "\n",
        "for n_feat in n_feats:\n",
        "    print('---- n features =', n_feat)\n",
        "\n",
        "    acc_cv = []\n",
        "\n",
        "    kf = StratifiedKFold(n_splits=5, shuffle = True)\n",
        "\n",
        "    for train_index, test_index in kf.split(x, y):\n",
        "\n",
        "        # Training phase\n",
        "        x_train = x[train_index, :]\n",
        "        y_train = y[train_index]\n",
        "\n",
        "        clf_cv = SVC(kernel = 'linear')\n",
        "\n",
        "        fselection_cv = SelectKBest(f_classif, k = n_feat)\n",
        "        fselection_cv.fit(x_train, y_train)\n",
        "        x_train = fselection_cv.transform(x_train)\n",
        "\n",
        "        clf_cv.fit(x_train, y_train)\n",
        "\n",
        "        # Test phase\n",
        "        x_test = fselection_cv.transform(x[test_index, :])\n",
        "        y_test = y[test_index]\n",
        "        y_pred = clf_cv.predict(x_test)\n",
        "\n",
        "\n",
        "        acc_i = accuracy_score(y_test, y_pred)\n",
        "        acc_cv.append(acc_i)\n",
        "\n",
        "    acc = np.average(acc_cv)\n",
        "    acc_nfeat.append(acc)\n",
        "\n",
        "    print('ACC:', acc)\n",
        "\n",
        "opt_index = np.argmax(acc_nfeat)\n",
        "opt_features = n_feats[opt_index]\n",
        "print(\"Optimal number of features: \", opt_features)\n",
        "\n",
        "plt.plot(n_feats, acc_nfeat)\n",
        "plt.xlabel(\"features\")\n",
        "plt.ylabel(\"Accuracy\")\n",
        "\n",
        "plt.show()\n",
        "\n",
        "# Fit model with optimal number of features\n",
        "clf = SVC(kernel = 'linear')\n",
        "fselection = SelectKBest(f_classif, k = opt_features)\n",
        "fselection.fit(x, y)\n",
        "\n",
        "print(\"Selected features: \", fselection.get_feature_names_out())\n",
        "\n",
        "x_transformed = fselection.transform(x)\n",
        "clf.fit(x_transformed, y)"
      ],
      "metadata": {
        "colab": {
          "base_uri": "https://localhost:8080/",
          "height": 1000
        },
        "id": "_JAHa9_BeWfd",
        "outputId": "437255fe-ff9c-4ca5-b837-49c5e6190e49"
      },
      "execution_count": null,
      "outputs": [
        {
          "output_type": "stream",
          "name": "stdout",
          "text": [
            "----- Feature selection using 50% of predictors -----\n",
            "Selected features:  ['x12' 'x16' 'x17' 'x18' 'x19' 'x20']\n",
            "              precision    recall  f1-score   support\n",
            "\n",
            "         1.0       0.73      0.25      0.37       298\n",
            "         2.0       0.87      0.98      0.92      1496\n",
            "\n",
            "    accuracy                           0.86      1794\n",
            "   macro avg       0.80      0.62      0.65      1794\n",
            "weighted avg       0.84      0.86      0.83      1794\n",
            "\n",
            "----- Optimal selection of number of features -----\n",
            "---- n features = 1\n",
            "ACC: 0.8338914738332738\n",
            "---- n features = 2\n",
            "ACC: 0.8338914738332738\n",
            "---- n features = 3\n",
            "ACC: 0.8338914738332738\n",
            "---- n features = 4\n",
            "ACC: 0.8383560791148597\n",
            "---- n features = 5\n",
            "ACC: 0.8539580772163522\n",
            "---- n features = 6\n",
            "ACC: 0.859538444779882\n",
            "---- n features = 7\n",
            "ACC: 0.8623083985621139\n",
            "---- n features = 8\n",
            "ACC: 0.872347146791989\n",
            "---- n features = 9\n",
            "ACC: 0.8757022144068719\n",
            "---- n features = 10\n",
            "ACC: 0.8784768366505344\n",
            "---- n features = 11\n",
            "ACC: 0.8795972673939092\n",
            "---- n features = 12\n",
            "ACC: 0.8807114735220429\n",
            "---- n features = 13\n",
            "ACC: 0.8784815051119652\n",
            "---- n features = 14\n",
            "ACC: 0.8796034920091502\n",
            "---- n features = 15\n",
            "ACC: 0.888531146418512\n",
            "---- n features = 16\n",
            "ACC: 0.8935372932260626\n",
            "---- n features = 17\n",
            "ACC: 0.8963150277773455\n",
            "---- n features = 18\n",
            "ACC: 0.8929755217005649\n",
            "---- n features = 19\n",
            "ACC: 0.8907424409828668\n",
            "---- n features = 20\n",
            "ACC: 0.8963134716235353\n",
            "---- n features = 21\n",
            "ACC: 0.8924168624826878\n",
            "---- n features = 22\n",
            "ACC: 0.89910209925149\n",
            "---- n features = 23\n",
            "ACC: 0.8985418838798027\n",
            "---- n features = 24\n",
            "ACC: 0.9013320676615677\n",
            "---- n features = 25\n",
            "ACC: 0.8957548124056581\n",
            "---- n features = 26\n",
            "ACC: 0.8957548124056581\n",
            "---- n features = 27\n",
            "ACC: 0.9024353807130296\n",
            "---- n features = 28\n",
            "ACC: 0.9030127137766296\n",
            "---- n features = 29\n",
            "ACC: 0.9030111576228194\n",
            "---- n features = 30\n",
            "ACC: 0.9019016199561165\n",
            "---- n features = 31\n",
            "ACC: 0.9035744853021273\n",
            "---- n features = 32\n",
            "ACC: 0.9002209738410546\n",
            "---- n features = 33\n",
            "ACC: 0.9091548528656572\n",
            "---- n features = 34\n",
            "ACC: 0.8996576461617467\n",
            "---- n features = 35\n",
            "ACC: 0.9013289553539472\n",
            "---- n features = 36\n",
            "ACC: 0.9007734084436905\n",
            "---- n features = 37\n",
            "ACC: 0.9013336238153778\n",
            "---- n features = 38\n",
            "ACC: 0.9018891707256346\n",
            "---- n features = 39\n",
            "ACC: 0.9063553321610307\n",
            "---- n features = 40\n",
            "ACC: 0.8996576461617467\n",
            "---- n features = 41\n",
            "ACC: 0.905241126032897\n",
            "---- n features = 42\n",
            "ACC: 0.9069108790712874\n",
            "---- n features = 43\n",
            "ACC: 0.9080266413532314\n",
            "---- n features = 44\n",
            "ACC: 0.9018969514946857\n",
            "---- n features = 45\n",
            "ACC: 0.9097041751606729\n",
            "---- n features = 46\n",
            "ACC: 0.9058013414045846\n",
            "---- n features = 47\n",
            "ACC: 0.9080359782760927\n",
            "---- n features = 48\n",
            "ACC: 0.9058044537122049\n",
            "---- n features = 49\n",
            "ACC: 0.9113739281990633\n",
            "---- n features = 50\n",
            "ACC: 0.9002271984562954\n",
            "---- n features = 51\n",
            "ACC: 0.9102441605328272\n",
            "---- n features = 52\n",
            "ACC: 0.9041331445200044\n",
            "---- n features = 53\n",
            "ACC: 0.9113754843528733\n",
            "---- n features = 54\n",
            "ACC: 0.9102643905323602\n",
            "---- n features = 55\n",
            "ACC: 0.9097026190068626\n",
            "---- n features = 56\n",
            "ACC: 0.9080281975070414\n",
            "---- n features = 57\n",
            "ACC: 0.9085915251863493\n",
            "---- n features = 58\n",
            "ACC: 0.9108059320583246\n",
            "---- n features = 59\n",
            "ACC: 0.9091330667123139\n",
            "---- n features = 60\n",
            "ACC: 0.8985434400336129\n",
            "---- n features = 61\n",
            "ACC: 0.9080095236613188\n",
            "---- n features = 62\n",
            "ACC: 0.9069139913789079\n",
            "---- n features = 63\n",
            "ACC: 0.907472650596785\n",
            "---- n features = 64\n",
            "ACC: 0.9091361790199344\n",
            "---- n features = 65\n",
            "ACC: 0.9063537760072207\n",
            "---- n features = 66\n",
            "ACC: 0.9069077667636669\n",
            "---- n features = 67\n",
            "ACC: 0.9057888921741025\n",
            "---- n features = 68\n",
            "ACC: 0.9046840229688302\n",
            "---- n features = 69\n",
            "ACC: 0.9174927249809371\n",
            "---- n features = 70\n",
            "ACC: 0.9063615567762717\n",
            "---- n features = 71\n",
            "ACC: 0.9080219728918006\n",
            "---- n features = 72\n",
            "ACC: 0.9052426821867072\n",
            "---- n features = 73\n",
            "ACC: 0.9035698168406965\n",
            "---- n features = 74\n",
            "ACC: 0.9141718927498793\n",
            "---- n features = 75\n",
            "ACC: 0.9113832651219246\n",
            "---- n features = 76\n",
            "ACC: 0.9063584444686512\n",
            "---- n features = 77\n",
            "ACC: 0.9074648698277337\n",
            "---- n features = 78\n",
            "ACC: 0.9085853005711083\n",
            "---- n features = 79\n",
            "ACC: 0.9080188605841801\n",
            "---- n features = 80\n",
            "ACC: 0.9085837444172983\n",
            "---- n features = 81\n",
            "ACC: 0.910256609763309\n",
            "---- n features = 82\n",
            "ACC: 0.9102534974556885\n",
            "---- n features = 83\n",
            "ACC: 0.9080422028913337\n",
            "---- n features = 84\n",
            "ACC: 0.9080173044303699\n",
            "---- n features = 85\n",
            "ACC: 0.9113739281990633\n",
            "---- n features = 86\n",
            "ACC: 0.9108183812888067\n",
            "---- n features = 87\n",
            "ACC: 0.907460201366303\n",
            "---- n features = 88\n",
            "ACC: 0.9085775198020573\n",
            "---- n features = 89\n",
            "ACC: 0.9147087658144131\n",
            "---- n features = 90\n",
            "ACC: 0.9046777983535892\n",
            "---- n features = 91\n",
            "ACC: 0.9074664259815439\n",
            "---- n features = 92\n",
            "ACC: 0.9046777983535893\n",
            "---- n features = 93\n",
            "ACC: 0.9086008621092109\n",
            "---- n features = 94\n",
            "ACC: 0.9141609996732077\n",
            "---- n features = 95\n",
            "ACC: 0.8996809884689002\n",
            "---- n features = 96\n",
            "ACC: 0.9091206174818319\n",
            "---- n features = 97\n",
            "ACC: 0.9030111576228194\n",
            "---- n features = 98\n",
            "ACC: 0.9152689811861006\n",
            "---- n features = 99\n",
            "ACC: 0.9124803535581456\n",
            "---- n features = 100\n",
            "ACC: 0.8990974307900593\n",
            "---- n features = 101\n",
            "ACC: 0.9108152689811861\n",
            "---- n features = 102\n",
            "ACC: 0.9102675028399808\n",
            "---- n features = 103\n",
            "ACC: 0.9069093229174772\n",
            "---- n features = 104\n",
            "ACC: 0.9080235290456109\n",
            "---- n features = 105\n",
            "ACC: 0.9041253637509531\n",
            "---- n features = 106\n",
            "ACC: 0.900782745366552\n",
            "---- n features = 107\n",
            "ACC: 0.9041378129814351\n",
            "---- n features = 108\n",
            "ACC: 0.9030080453151988\n",
            "---- n features = 109\n",
            "ACC: 0.9052442383405175\n",
            "---- n features = 110\n",
            "ACC: 0.9069139913789078\n",
            "---- n features = 111\n",
            "ACC: 0.9063506636995999\n",
            "---- n features = 112\n",
            "ACC: 0.9085728513406265\n",
            "---- n features = 113\n",
            "ACC: 0.9097010628530523\n",
            "---- n features = 114\n",
            "ACC: 0.9102581659171192\n",
            "---- n features = 115\n",
            "ACC: 0.9119325874169404\n",
            "---- n features = 116\n",
            "ACC: 0.908577519802057\n",
            "---- n features = 117\n",
            "ACC: 0.9108121566735656\n",
            "---- n features = 118\n",
            "ACC: 0.9057873360202923\n",
            "---- n features = 119\n",
            "ACC: 0.9057997852507741\n",
            "---- n features = 120\n",
            "ACC: 0.9035604799178352\n",
            "---- n features = 121\n",
            "ACC: 0.9097103997759138\n",
            "---- n features = 122\n",
            "ACC: 0.9057997852507741\n",
            "---- n features = 123\n",
            "ACC: 0.9113817089681145\n",
            "---- n features = 124\n",
            "ACC: 0.9002116369181931\n",
            "---- n features = 125\n",
            "ACC: 0.9030064891613886\n",
            "---- n features = 126\n",
            "ACC: 0.9046871352764507\n",
            "---- n features = 127\n",
            "ACC: 0.9035744853021273\n",
            "---- n features = 128\n",
            "ACC: 0.9108043759045144\n",
            "---- n features = 129\n",
            "ACC: 0.9058013414045843\n",
            "---- n features = 130\n",
            "ACC: 0.9063615567762717\n",
            "---- n features = 131\n",
            "ACC: 0.9063600006224615\n",
            "---- n features = 132\n",
            "ACC: 0.9002271984562954\n",
            "---- n features = 133\n",
            "ACC: 0.9085775198020573\n",
            "---- n features = 134\n",
            "ACC: 0.904688691430261\n",
            "---- n features = 135\n",
            "ACC: 0.9007780769051212\n",
            "---- n features = 136\n",
            "ACC: 0.908031309814662\n",
            "---- n features = 137\n",
            "ACC: 0.9057811114050512\n",
            "---- n features = 138\n",
            "ACC: 0.9080126359689391\n",
            "---- n features = 139\n",
            "ACC: 0.9102534974556885\n",
            "---- n features = 140\n",
            "ACC: 0.9057842237126718\n",
            "---- n features = 141\n",
            "ACC: 0.9035589237640249\n",
            "---- n features = 142\n",
            "ACC: 0.9013414045844291\n",
            "---- n features = 143\n",
            "ACC: 0.9029987083923375\n",
            "---- n features = 144\n",
            "ACC: 0.901892283033255\n",
            "---- n features = 145\n",
            "ACC: 0.8991176607895925\n",
            "---- n features = 146\n",
            "ACC: 0.9052349014176562\n",
            "---- n features = 147\n",
            "ACC: 0.907472650596785\n",
            "---- n features = 148\n",
            "ACC: 0.905234901417656\n",
            "---- n features = 149\n",
            "ACC: 0.9113801528143043\n",
            "---- n features = 150\n",
            "ACC: 0.9030127137766296\n",
            "Optimal number of features:  69\n"
          ]
        },
        {
          "output_type": "display_data",
          "data": {
            "text/plain": [
              "<Figure size 640x480 with 1 Axes>"
            ],
            "image/png": "[encoded data removed]"
          },
          "metadata": {}
        },
        {
          "output_type": "stream",
          "name": "stdout",
          "text": [
            "Selected features:  ['x2' 'x9' 'x10' 'x11' 'x12' 'x13' 'x15' 'x16' 'x17' 'x18' 'x19' 'x20'\n",
            " 'x21' 'x22' 'x24' 'x25' 'x26' 'x27' 'x28' 'x29' 'x30' 'x31' 'x42' 'x43'\n",
            " 'x49' 'x50' 'x60' 'x61' 'x62' 'x63' 'x64' 'x65' 'x66' 'x67' 'x70' 'x71'\n",
            " 'x75' 'x76' 'x77' 'x78' 'x79' 'x89' 'x90' 'x96' 'x97' 'x98' 'x99' 'x100'\n",
            " 'x101' 'x104' 'x105' 'x111' 'x112' 'x113' 'x114' 'x118' 'x119' 'x127'\n",
            " 'x128' 'x129' 'x130' 'x132' 'x133' 'x139' 'x140' 'x141' 'x148' 'x149'\n",
            " 'x150']\n"
          ]
        },
        {
          "output_type": "execute_result",
          "data": {
            "text/plain": [
              "SVC(kernel='linear')"
            ],
            "text/html": [
              "<style>#sk-container-id-5 {color: black;background-color: white;}#sk-container-id-5 pre{padding: 0;}#sk-container-id-5 div.sk-toggleable {background-color: white;}#sk-container-id-5 label.sk-toggleable__label {cursor: pointer;display: block;width: 100%;margin-bottom: 0;padding: 0.3em;box-sizing: border-box;text-align: center;}#sk-container-id-5 label.sk-toggleable__label-arrow:before {content: \"▸\";float: left;margin-right: 0.25em;color: #696969;}#sk-container-id-5 label.sk-toggleable__label-arrow:hover:before {color: black;}#sk-container-id-5 div.sk-estimator:hover label.sk-toggleable__label-arrow:before {color: black;}#sk-container-id-5 div.sk-toggleable__content {max-height: 0;max-width: 0;overflow: hidden;text-align: left;background-color: #f0f8ff;}#sk-container-id-5 div.sk-toggleable__content pre {margin: 0.2em;color: black;border-radius: 0.25em;background-color: #f0f8ff;}#sk-container-id-5 input.sk-toggleable__control:checked~div.sk-toggleable__content {max-height: 200px;max-width: 100%;overflow: auto;}#sk-container-id-5 input.sk-toggleable__control:checked~label.sk-toggleable__label-arrow:before {content: \"▾\";}#sk-container-id-5 div.sk-estimator input.sk-toggleable__control:checked~label.sk-toggleable__label {background-color: #d4ebff;}#sk-container-id-5 div.sk-label input.sk-toggleable__control:checked~label.sk-toggleable__label {background-color: #d4ebff;}#sk-container-id-5 input.sk-hidden--visually {border: 0;clip: rect(1px 1px 1px 1px);clip: rect(1px, 1px, 1px, 1px);height: 1px;margin: -1px;overflow: hidden;padding: 0;position: absolute;width: 1px;}#sk-container-id-5 div.sk-estimator {font-family: monospace;background-color: #f0f8ff;border: 1px dotted black;border-radius: 0.25em;box-sizing: border-box;margin-bottom: 0.5em;}#sk-container-id-5 div.sk-estimator:hover {background-color: #d4ebff;}#sk-container-id-5 div.sk-parallel-item::after {content: \"\";width: 100%;border-bottom: 1px solid gray;flex-grow: 1;}#sk-container-id-5 div.sk-label:hover label.sk-toggleable__label {background-color: #d4ebff;}#sk-container-id-5 div.sk-serial::before {content: \"\";position: absolute;border-left: 1px solid gray;box-sizing: border-box;top: 0;bottom: 0;left: 50%;z-index: 0;}#sk-container-id-5 div.sk-serial {display: flex;flex-direction: column;align-items: center;background-color: white;padding-right: 0.2em;padding-left: 0.2em;position: relative;}#sk-container-id-5 div.sk-item {position: relative;z-index: 1;}#sk-container-id-5 div.sk-parallel {display: flex;align-items: stretch;justify-content: center;background-color: white;position: relative;}#sk-container-id-5 div.sk-item::before, #sk-container-id-5 div.sk-parallel-item::before {content: \"\";position: absolute;border-left: 1px solid gray;box-sizing: border-box;top: 0;bottom: 0;left: 50%;z-index: -1;}#sk-container-id-5 div.sk-parallel-item {display: flex;flex-direction: column;z-index: 1;position: relative;background-color: white;}#sk-container-id-5 div.sk-parallel-item:first-child::after {align-self: flex-end;width: 50%;}#sk-container-id-5 div.sk-parallel-item:last-child::after {align-self: flex-start;width: 50%;}#sk-container-id-5 div.sk-parallel-item:only-child::after {width: 0;}#sk-container-id-5 div.sk-dashed-wrapped {border: 1px dashed gray;margin: 0 0.4em 0.5em 0.4em;box-sizing: border-box;padding-bottom: 0.4em;background-color: white;}#sk-container-id-5 div.sk-label label {font-family: monospace;font-weight: bold;display: inline-block;line-height: 1.2em;}#sk-container-id-5 div.sk-label-container {text-align: center;}#sk-container-id-5 div.sk-container {/* jupyter's `normalize.less` sets `[hidden] { display: none; }` but bootstrap.min.css set `[hidden] { display: none !important; }` so we also need the `!important` here to be able to override the default hidden behavior on the sphinx rendered scikit-learn.org. See: https://github.com/scikit-learn/scikit-learn/issues/21755 */display: inline-block !important;position: relative;}#sk-container-id-5 div.sk-text-repr-fallback {display: none;}</style><div id=\"sk-container-id-5\" class=\"sk-top-container\"><div class=\"sk-text-repr-fallback\"><pre>SVC(kernel=&#x27;linear&#x27;)</pre><b>In a Jupyter environment, please rerun this cell to show the HTML representation or trust the notebook. <br />On GitHub, the HTML representation is unable to render, please try loading this page with nbviewer.org.</b></div><div class=\"sk-container\" hidden><div class=\"sk-item\"><div class=\"sk-estimator sk-toggleable\"><input class=\"sk-toggleable__control sk-hidden--visually\" id=\"sk-estimator-id-5\" type=\"checkbox\" checked><label for=\"sk-estimator-id-5\" class=\"sk-toggleable__label sk-toggleable__label-arrow\">SVC</label><div class=\"sk-toggleable__content\"><pre>SVC(kernel=&#x27;linear&#x27;)</pre></div></div></div></div></div>"
            ]
          },
          "metadata": {},
          "execution_count": 50
        }
      ]
    },
    {
      "cell_type": "markdown",
      "source": [
        "8.\n",
        "### Contesta las siguientes preguntas:\n"
      ],
      "metadata": {
        "id": "llUarAZUd7MD"
      }
    },
    {
      "cell_type": "markdown",
      "source": [
        "**A. ¿Qué pasa si no se considera el problema de tener datos desbalanceados para este caso? ¿Por qué?**\n",
        "\n",
        "Si no se consideramos que los datos esten desbalanceados, es probable que el modelo de regresión logística (o cualquier otro modelo) se sesgue hacia la clase mayoritaria. Esto basicamente resulta en tener un rendimiento deficiente en la clasificación de la clase minoritaria. Como resultado, la precisión del modelo puede ser alta debido a la clasificación correcta de la clase mayoritaria, pero el rendimiento en la clase minoritaria será muy deficiente. Es importante abordar el problema de desbalance de clases para obtener una evaluación justa del rendimiento del modelo.\n",
        "\n",
        "**B. De todos los clasificadores, ¿cuál o cuales consideras que son adecuados para los datos? ¿Qué propiedades tienen dichos modelos que los hacen apropiados para los datos? Argumenta tu respuesta.**\n",
        "\n",
        "Después de probar cinco modelos de clasificación, considero que el modelo más optimo para manejar el desbalance de los datos es el de RBF - SVM. La presición del modelo en ambas clases es muy alto de 88 y 92 respectivamente, por lo que el modelo otorga una clasificación justa para ambas clases.\n",
        "\n",
        "**C. ¿Es posibles reducir la dimensionalidad del problema sin perder rendimiento en el modelo? ¿Por qué?**\n",
        "\n",
        "Reducir la dimensionalidad del problema podría ser beneficioso para el rendimiento y eficiencia computacional. Podemos implementar técnicas como Análisis de Componentes Principales (PCA) para mantener la mayor parte de la varianza de los datos mientras se reduce el número de características. Esto puede ayudar a reducir el riesgo de sobreajuste y mejorar la eficiencia del modelo. Sin embargo, es importante tener en cuenta que la reducción de dimensionalidad también puede llevar a la pérdida de información relevante, por lo que debemos evaluar cuidadosamente el impacto que pueda llegar a tener para el modelo.\n",
        "\n",
        "**D. ¿Qué método de selección de características consideras el más adecuado para este caso? ¿Por qué?**\n",
        "\n",
        "El método clasificador de Filter. Es bastante sencillo, es el único que funciona. Los resultados son bastantes óptimos y es el único de los tres que ejecuta el modelo en un tiempo efficiente.\n",
        "\n",
        "**E. Si quisieras mejorar el rendimiento de tus modelos, ¿qué más se podría hacer?**\n",
        "\n",
        "Ajustar los hiperparámetros del modelo, de esta manera podríamos mejorar el rendimiento. También podriamos crear nuevas características relevantes a partir de las existentes para mejorar la capacidad predictiva del modelo. Otro forma seria combinar varios modelos para mejorar la generalización."
      ],
      "metadata": {
        "id": "LRsMbaJdBBPM"
      }
    },
    {
      "cell_type": "markdown",
      "source": [
        "## **Actividad 2**"
      ],
      "metadata": {
        "id": "5mR6W76ktiRP"
      }
    },
    {
      "cell_type": "code",
      "source": [
        "# Cargar los datos\n",
        "data = np.loadtxt('M_1.txt')\n",
        "x = data[:,2:]\n",
        "y = data[:,0]"
      ],
      "metadata": {
        "id": "sXefPmkrwssQ"
      },
      "execution_count": null,
      "outputs": []
    },
    {
      "cell_type": "markdown",
      "source": [
        "### Paso 1\n",
        "Determina si es necesario balancear los datos. En caso de que sea afirmativo, en todo este ejercicio tendrás que utilizar alguna estrategia para mitigar el problema de tener una muestra desbalanceada."
      ],
      "metadata": {
        "id": "61VSi-bTt2pt"
      }
    },
    {
      "cell_type": "code",
      "source": [
        "# Calcular la cantidad de muestras de cada clase\n",
        "cantidad_clase_1 = np.sum(y == 1)\n",
        "cantidad_clase_2 = np.sum(y == 2)\n",
        "cantidad_clase_3 = np.sum(y == 3)\n",
        "cantidad_clase_4 = np.sum(y == 4)\n",
        "cantidad_clase_5 = np.sum(y == 5)\n",
        "cantidad_clase_6 = np.sum(y == 6)\n",
        "cantidad_clase_7 = np.sum(y == 7)\n",
        "\n",
        "# Imprimir la cantidad de muestras de cada clase\n",
        "print(f'Cantidad de muestras de clase 1: {cantidad_clase_1}')\n",
        "print(f'Cantidad de muestras de clase 2: {cantidad_clase_2}')\n",
        "print(f'Cantidad de muestras de clase 3: {cantidad_clase_3}')\n",
        "print(f'Cantidad de muestras de clase 4: {cantidad_clase_4}')\n",
        "print(f'Cantidad de muestras de clase 5: {cantidad_clase_5}')\n",
        "print(f'Cantidad de muestras de clase 6: {cantidad_clase_6}')\n",
        "print(f'Cantidad de muestras de clase 7: {cantidad_clase_7}')"
      ],
      "metadata": {
        "colab": {
          "base_uri": "https://localhost:8080/"
        },
        "id": "IVxBRVARaQw_",
        "outputId": "02e04ed4-894d-46a1-a28a-255154677ee3"
      },
      "execution_count": null,
      "outputs": [
        {
          "output_type": "stream",
          "name": "stdout",
          "text": [
            "Cantidad de muestras de clase 1: 90\n",
            "Cantidad de muestras de clase 2: 90\n",
            "Cantidad de muestras de clase 3: 90\n",
            "Cantidad de muestras de clase 4: 90\n",
            "Cantidad de muestras de clase 5: 90\n",
            "Cantidad de muestras de clase 6: 90\n",
            "Cantidad de muestras de clase 7: 90\n"
          ]
        }
      ]
    },
    {
      "cell_type": "markdown",
      "source": [
        "### Paso 2\n",
        "Evalúa al menos 5 modelos de clasificación distintos utilizando validación cruzada, y determina cuál de ellos es el más efectivo."
      ],
      "metadata": {
        "id": "CYyp4vKPhF4i"
      }
    },
    {
      "cell_type": "code",
      "source": [
        "# Linear SVM\n",
        "features = x\n",
        "n_features = len(x)\n",
        "\n",
        "# Linear SVM\n",
        "print('----- Linear-SVM -----')\n",
        "kf = StratifiedKFold(n_splits=5, shuffle = True)\n",
        "\n",
        "cv_y_test = []\n",
        "cv_y_pred = []\n",
        "\n",
        "for train_index, test_index in kf.split(x, y):\n",
        "\n",
        "    x_train = x[train_index, :]\n",
        "    y_train = y[train_index]\n",
        "\n",
        "    x_test = x[test_index, :]\n",
        "    y_test = y[test_index]\n",
        "\n",
        "    clf = SVC(kernel = 'linear')\n",
        "    clf.fit(x_train, y_train)\n",
        "\n",
        "    y_pred = clf.predict(x_test)\n",
        "\n",
        "    cv_y_test.append(y_test)\n",
        "    cv_y_pred.append(y_pred)\n",
        "\n",
        "print(classification_report(np.concatenate(cv_y_test), np.concatenate(cv_y_pred)))"
      ],
      "metadata": {
        "colab": {
          "base_uri": "https://localhost:8080/"
        },
        "id": "ljMXTWp0h-je",
        "outputId": "4cc47e11-1681-4946-8ea9-df0284c42f31"
      },
      "execution_count": null,
      "outputs": [
        {
          "output_type": "stream",
          "name": "stdout",
          "text": [
            "----- Linear-SVM -----\n",
            "              precision    recall  f1-score   support\n",
            "\n",
            "         1.0       0.99      0.99      0.99        90\n",
            "         2.0       0.95      0.98      0.96        90\n",
            "         3.0       0.96      0.98      0.97        90\n",
            "         4.0       1.00      0.99      0.99        90\n",
            "         5.0       0.99      0.97      0.98        90\n",
            "         6.0       0.94      0.91      0.93        90\n",
            "         7.0       0.99      1.00      0.99        90\n",
            "\n",
            "    accuracy                           0.97       630\n",
            "   macro avg       0.97      0.97      0.97       630\n",
            "weighted avg       0.97      0.97      0.97       630\n",
            "\n"
          ]
        }
      ]
    },
    {
      "cell_type": "code",
      "source": [
        "# KNN\n",
        "print('----- KNN -----')\n",
        "kf = StratifiedKFold(n_splits=5, shuffle = True)\n",
        "\n",
        "cv_y_test = []\n",
        "cv_y_pred = []\n",
        "\n",
        "for train_index, test_index in kf.split(x, y):\n",
        "\n",
        "    x_train = x[train_index, :]\n",
        "    y_train = y[train_index]\n",
        "\n",
        "    x_test = x[test_index, :]\n",
        "    y_test = y[test_index]\n",
        "\n",
        "    clf = KNeighborsClassifier(n_neighbors=3)\n",
        "    clf.fit(x_train, y_train)\n",
        "\n",
        "    y_pred = clf.predict(x_test)\n",
        "\n",
        "    cv_y_test.append(y_test)\n",
        "    cv_y_pred.append(y_pred)\n",
        "\n",
        "print(classification_report(np.concatenate(cv_y_test), np.concatenate(cv_y_pred)))"
      ],
      "metadata": {
        "colab": {
          "base_uri": "https://localhost:8080/"
        },
        "id": "HWQ6rvG3iIFp",
        "outputId": "eb8931ea-6bae-4070-c50e-3c6b7679d3bb"
      },
      "execution_count": null,
      "outputs": [
        {
          "output_type": "stream",
          "name": "stdout",
          "text": [
            "----- KNN -----\n",
            "              precision    recall  f1-score   support\n",
            "\n",
            "         1.0       0.97      0.99      0.98        90\n",
            "         2.0       0.89      0.99      0.94        90\n",
            "         3.0       0.96      0.91      0.94        90\n",
            "         4.0       1.00      1.00      1.00        90\n",
            "         5.0       1.00      0.92      0.96        90\n",
            "         6.0       0.93      0.92      0.93        90\n",
            "         7.0       0.99      1.00      0.99        90\n",
            "\n",
            "    accuracy                           0.96       630\n",
            "   macro avg       0.96      0.96      0.96       630\n",
            "weighted avg       0.96      0.96      0.96       630\n",
            "\n"
          ]
        }
      ]
    },
    {
      "cell_type": "code",
      "source": [
        "# Decision tree\n",
        "print('----- Decision tree -----')\n",
        "kf = StratifiedKFold(n_splits=5, shuffle = True)\n",
        "\n",
        "cv_y_test = []\n",
        "cv_y_pred = []\n",
        "\n",
        "for train_index, test_index in kf.split(x, y):\n",
        "\n",
        "    x_train = x[train_index, :]\n",
        "    y_train = y[train_index]\n",
        "\n",
        "    x_test = x[test_index, :]\n",
        "    y_test = y[test_index]\n",
        "\n",
        "    clf = DecisionTreeClassifier()\n",
        "    clf.fit(x_train, y_train)\n",
        "\n",
        "    y_pred = clf.predict(x_test)\n",
        "\n",
        "    cv_y_test.append(y_test)\n",
        "    cv_y_pred.append(y_pred)\n",
        "\n",
        "print(classification_report(np.concatenate(cv_y_test), np.concatenate(cv_y_pred)))"
      ],
      "metadata": {
        "colab": {
          "base_uri": "https://localhost:8080/"
        },
        "id": "bB03UuiLiPiQ",
        "outputId": "bc7bf583-dbc4-4233-9cf0-608255268672"
      },
      "execution_count": null,
      "outputs": [
        {
          "output_type": "stream",
          "name": "stdout",
          "text": [
            "----- Decision tree -----\n",
            "              precision    recall  f1-score   support\n",
            "\n",
            "         1.0       0.90      0.87      0.88        90\n",
            "         2.0       0.75      0.77      0.76        90\n",
            "         3.0       0.90      0.84      0.87        90\n",
            "         4.0       0.85      0.88      0.86        90\n",
            "         5.0       0.88      0.86      0.87        90\n",
            "         6.0       0.73      0.80      0.76        90\n",
            "         7.0       0.98      0.94      0.96        90\n",
            "\n",
            "    accuracy                           0.85       630\n",
            "   macro avg       0.85      0.85      0.85       630\n",
            "weighted avg       0.85      0.85      0.85       630\n",
            "\n"
          ]
        }
      ]
    },
    {
      "cell_type": "code",
      "source": [
        "# RBM SVM\n",
        "features = x\n",
        "n_features = len(x)\n",
        "\n",
        "# Linear SVM\n",
        "print('----- Linear-SVM -----')\n",
        "kf = StratifiedKFold(n_splits=5, shuffle = True)\n",
        "\n",
        "cv_y_test = []\n",
        "cv_y_pred = []\n",
        "\n",
        "for train_index, test_index in kf.split(x, y):\n",
        "\n",
        "    x_train = x[train_index, :]\n",
        "    y_train = y[train_index]\n",
        "\n",
        "    x_test = x[test_index, :]\n",
        "    y_test = y[test_index]\n",
        "\n",
        "    clf = SVC(kernel = 'linear')\n",
        "    clf.fit(x_train, y_train)\n",
        "\n",
        "    y_pred = clf.predict(x_test)\n",
        "\n",
        "    cv_y_test.append(y_test)\n",
        "    cv_y_pred.append(y_pred)\n",
        "\n",
        "print(classification_report(np.concatenate(cv_y_test), np.concatenate(cv_y_pred)))"
      ],
      "metadata": {
        "colab": {
          "base_uri": "https://localhost:8080/"
        },
        "id": "Z8yq1JQ9iXR9",
        "outputId": "be10349d-8b8a-4c1c-a5d0-6471c23d5d08"
      },
      "execution_count": null,
      "outputs": [
        {
          "output_type": "stream",
          "name": "stdout",
          "text": [
            "----- Linear-SVM -----\n",
            "              precision    recall  f1-score   support\n",
            "\n",
            "         1.0       0.99      0.99      0.99        90\n",
            "         2.0       0.94      0.99      0.96        90\n",
            "         3.0       0.98      0.97      0.97        90\n",
            "         4.0       1.00      0.99      0.99        90\n",
            "         5.0       0.99      0.98      0.98        90\n",
            "         6.0       0.95      0.92      0.94        90\n",
            "         7.0       0.99      1.00      0.99        90\n",
            "\n",
            "    accuracy                           0.98       630\n",
            "   macro avg       0.98      0.98      0.98       630\n",
            "weighted avg       0.98      0.98      0.98       630\n",
            "\n"
          ]
        }
      ]
    },
    {
      "cell_type": "code",
      "source": [
        "# Linear Discriminant Analysis\n",
        "print('----- Linear Discriminant Analysis -----')\n",
        "\n",
        "kf = StratifiedKFold(n_splits=5, shuffle = True)\n",
        "\n",
        "cv_y_test = []\n",
        "cv_y_pred = []\n",
        "\n",
        "for train_index, test_index in kf.split(x, y):\n",
        "\n",
        "    x_train = x[train_index, :]\n",
        "    y_train = y[train_index]\n",
        "\n",
        "    x_test = x[test_index, :]\n",
        "    y_test = y[test_index]\n",
        "\n",
        "    clf = LinearDiscriminantAnalysis()\n",
        "    clf.fit(x_train, y_train)\n",
        "\n",
        "    y_pred = clf.predict(x_test)\n",
        "\n",
        "    cv_y_test.append(y_test)\n",
        "    cv_y_pred.append(y_pred)\n",
        "\n",
        "print(classification_report(np.concatenate(cv_y_test), np.concatenate(cv_y_pred)))"
      ],
      "metadata": {
        "colab": {
          "base_uri": "https://localhost:8080/"
        },
        "id": "RoBPEdFYipiA",
        "outputId": "bf0d3a8f-ab49-4893-ccb2-fd11b7bfffeb"
      },
      "execution_count": null,
      "outputs": [
        {
          "output_type": "stream",
          "name": "stdout",
          "text": [
            "----- Linear Discriminant Analysis -----\n",
            "              precision    recall  f1-score   support\n",
            "\n",
            "         1.0       0.85      0.83      0.84        90\n",
            "         2.0       0.74      0.78      0.76        90\n",
            "         3.0       0.78      0.74      0.76        90\n",
            "         4.0       0.94      0.97      0.95        90\n",
            "         5.0       0.87      0.77      0.82        90\n",
            "         6.0       0.64      0.72      0.68        90\n",
            "         7.0       0.99      0.97      0.98        90\n",
            "\n",
            "    accuracy                           0.83       630\n",
            "   macro avg       0.83      0.83      0.83       630\n",
            "weighted avg       0.83      0.83      0.83       630\n",
            "\n"
          ]
        }
      ]
    },
    {
      "cell_type": "markdown",
      "source": [
        "### Paso 3\n",
        "Escoge al menos dos clasificadores que hayas evaluado en el paso anterior e identifica sus hiperparámetros. Lleva a cabo el proceso de validación cruzada anidada para evaluar los dos modelos con la selección óptima de hiperparámetros."
      ],
      "metadata": {
        "id": "wXFe_gf0hMkg"
      }
    },
    {
      "cell_type": "code",
      "source": [
        "# Hiperparámetros con SVM\n",
        "\n",
        "# Regularization parameter of the linear SVM classifier\n",
        "print(\"----- SVM classifier - Regularization parameter -----\")\n",
        "\n",
        "cc = np.logspace(-3, 1, 100)\n",
        "\n",
        "acc = []\n",
        "\n",
        "for c in cc:\n",
        "    print('---- C =', c)\n",
        "\n",
        "    acc_cv = []\n",
        "    kf = StratifiedKFold(n_splits=5, shuffle = True)\n",
        "\n",
        "    for train_index, test_index in kf.split(x, y):\n",
        "        # Training phase\n",
        "        x_train = x[train_index, :]\n",
        "        y_train = y[train_index]\n",
        "\n",
        "        clf_cv = SVC(C=c, kernel = 'linear')\n",
        "\n",
        "        clf_cv.fit(x_train, y_train)\n",
        "\n",
        "        # Test phase\n",
        "        x_test = x[test_index, :]\n",
        "        y_test = y[test_index]\n",
        "        y_pred = clf_cv.predict(x_test)\n",
        "\n",
        "        acc_i = accuracy_score(y_test, y_pred)\n",
        "        acc_cv.append(acc_i)\n",
        "\n",
        "    acc_hyp = np.average(acc_cv)\n",
        "    acc.append(acc_hyp)\n",
        "\n",
        "    print('ACC:', acc_hyp)"
      ],
      "metadata": {
        "id": "s8easPrikEZ-"
      },
      "execution_count": null,
      "outputs": []
    },
    {
      "cell_type": "code",
      "source": [
        "opt_index = np.argmax(acc)\n",
        "opt_hyperparameter = cc[opt_index]\n",
        "print(\"Optimal C: \", opt_hyperparameter)\n",
        "\n",
        "plt.plot(cc, acc)\n",
        "plt.xscale('log')\n",
        "plt.xlabel(\"c\")\n",
        "plt.ylabel(\"Accuracy\")\n",
        "\n",
        "plt.show()\n",
        "\n",
        "# Fit model with optimal number of features\n",
        "clf = SVC(C=opt_hyperparameter, kernel = 'linear')\n",
        "clf.fit(x, y)"
      ],
      "metadata": {
        "colab": {
          "base_uri": "https://localhost:8080/",
          "height": 530
        },
        "id": "rhXSBCHokk6h",
        "outputId": "fa084e6f-5eeb-4aaa-c069-215336fda769"
      },
      "execution_count": null,
      "outputs": [
        {
          "output_type": "stream",
          "name": "stdout",
          "text": [
            "Optimal C:  0.00210490414451202\n"
          ]
        },
        {
          "output_type": "display_data",
          "data": {
            "text/plain": [
              "<Figure size 640x480 with 1 Axes>"
            ],
            "image/png": "[encoded data removed]"
          },
          "metadata": {}
        },
        {
          "output_type": "execute_result",
          "data": {
            "text/plain": [
              "SVC(C=0.00210490414451202, kernel='linear')"
            ],
            "text/html": [
              "<style>#sk-container-id-3 {color: black;background-color: white;}#sk-container-id-3 pre{padding: 0;}#sk-container-id-3 div.sk-toggleable {background-color: white;}#sk-container-id-3 label.sk-toggleable__label {cursor: pointer;display: block;width: 100%;margin-bottom: 0;padding: 0.3em;box-sizing: border-box;text-align: center;}#sk-container-id-3 label.sk-toggleable__label-arrow:before {content: \"▸\";float: left;margin-right: 0.25em;color: #696969;}#sk-container-id-3 label.sk-toggleable__label-arrow:hover:before {color: black;}#sk-container-id-3 div.sk-estimator:hover label.sk-toggleable__label-arrow:before {color: black;}#sk-container-id-3 div.sk-toggleable__content {max-height: 0;max-width: 0;overflow: hidden;text-align: left;background-color: #f0f8ff;}#sk-container-id-3 div.sk-toggleable__content pre {margin: 0.2em;color: black;border-radius: 0.25em;background-color: #f0f8ff;}#sk-container-id-3 input.sk-toggleable__control:checked~div.sk-toggleable__content {max-height: 200px;max-width: 100%;overflow: auto;}#sk-container-id-3 input.sk-toggleable__control:checked~label.sk-toggleable__label-arrow:before {content: \"▾\";}#sk-container-id-3 div.sk-estimator input.sk-toggleable__control:checked~label.sk-toggleable__label {background-color: #d4ebff;}#sk-container-id-3 div.sk-label input.sk-toggleable__control:checked~label.sk-toggleable__label {background-color: #d4ebff;}#sk-container-id-3 input.sk-hidden--visually {border: 0;clip: rect(1px 1px 1px 1px);clip: rect(1px, 1px, 1px, 1px);height: 1px;margin: -1px;overflow: hidden;padding: 0;position: absolute;width: 1px;}#sk-container-id-3 div.sk-estimator {font-family: monospace;background-color: #f0f8ff;border: 1px dotted black;border-radius: 0.25em;box-sizing: border-box;margin-bottom: 0.5em;}#sk-container-id-3 div.sk-estimator:hover {background-color: #d4ebff;}#sk-container-id-3 div.sk-parallel-item::after {content: \"\";width: 100%;border-bottom: 1px solid gray;flex-grow: 1;}#sk-container-id-3 div.sk-label:hover label.sk-toggleable__label {background-color: #d4ebff;}#sk-container-id-3 div.sk-serial::before {content: \"\";position: absolute;border-left: 1px solid gray;box-sizing: border-box;top: 0;bottom: 0;left: 50%;z-index: 0;}#sk-container-id-3 div.sk-serial {display: flex;flex-direction: column;align-items: center;background-color: white;padding-right: 0.2em;padding-left: 0.2em;position: relative;}#sk-container-id-3 div.sk-item {position: relative;z-index: 1;}#sk-container-id-3 div.sk-parallel {display: flex;align-items: stretch;justify-content: center;background-color: white;position: relative;}#sk-container-id-3 div.sk-item::before, #sk-container-id-3 div.sk-parallel-item::before {content: \"\";position: absolute;border-left: 1px solid gray;box-sizing: border-box;top: 0;bottom: 0;left: 50%;z-index: -1;}#sk-container-id-3 div.sk-parallel-item {display: flex;flex-direction: column;z-index: 1;position: relative;background-color: white;}#sk-container-id-3 div.sk-parallel-item:first-child::after {align-self: flex-end;width: 50%;}#sk-container-id-3 div.sk-parallel-item:last-child::after {align-self: flex-start;width: 50%;}#sk-container-id-3 div.sk-parallel-item:only-child::after {width: 0;}#sk-container-id-3 div.sk-dashed-wrapped {border: 1px dashed gray;margin: 0 0.4em 0.5em 0.4em;box-sizing: border-box;padding-bottom: 0.4em;background-color: white;}#sk-container-id-3 div.sk-label label {font-family: monospace;font-weight: bold;display: inline-block;line-height: 1.2em;}#sk-container-id-3 div.sk-label-container {text-align: center;}#sk-container-id-3 div.sk-container {/* jupyter's `normalize.less` sets `[hidden] { display: none; }` but bootstrap.min.css set `[hidden] { display: none !important; }` so we also need the `!important` here to be able to override the default hidden behavior on the sphinx rendered scikit-learn.org. See: https://github.com/scikit-learn/scikit-learn/issues/21755 */display: inline-block !important;position: relative;}#sk-container-id-3 div.sk-text-repr-fallback {display: none;}</style><div id=\"sk-container-id-3\" class=\"sk-top-container\"><div class=\"sk-text-repr-fallback\"><pre>SVC(C=0.00210490414451202, kernel=&#x27;linear&#x27;)</pre><b>In a Jupyter environment, please rerun this cell to show the HTML representation or trust the notebook. <br />On GitHub, the HTML representation is unable to render, please try loading this page with nbviewer.org.</b></div><div class=\"sk-container\" hidden><div class=\"sk-item\"><div class=\"sk-estimator sk-toggleable\"><input class=\"sk-toggleable__control sk-hidden--visually\" id=\"sk-estimator-id-3\" type=\"checkbox\" checked><label for=\"sk-estimator-id-3\" class=\"sk-toggleable__label sk-toggleable__label-arrow\">SVC</label><div class=\"sk-toggleable__content\"><pre>SVC(C=0.00210490414451202, kernel=&#x27;linear&#x27;)</pre></div></div></div></div></div>"
            ]
          },
          "metadata": {},
          "execution_count": 37
        }
      ]
    },
    {
      "cell_type": "code",
      "source": [
        "# Hiperparámetros con RMB-SVM\n",
        "\n",
        "# Smoothing parameter of the RB-SVM classifier\n",
        "print(\"----- RB-SVM classifier - Smoothing parameter -----\")\n",
        "\n",
        "gg = np.logspace(-5, -1, 100)\n",
        "acc = []\n",
        "\n",
        "for g in gg:\n",
        "    print('---- gamma =', g)\n",
        "\n",
        "    acc_cv = []\n",
        "    kf = StratifiedKFold(n_splits=5, shuffle = True)\n",
        "\n",
        "    for train_index, test_index in kf.split(x, y):\n",
        "        # Training phase\n",
        "        x_train = x[train_index, :]\n",
        "        y_train = y[train_index]\n",
        "\n",
        "        clf_cv = SVC(kernel ='rbf', gamma = g)\n",
        "\n",
        "        clf_cv.fit(x_train, y_train)\n",
        "\n",
        "        # Test phase\n",
        "        x_test = x[test_index, :]\n",
        "        y_test = y[test_index]\n",
        "        y_pred = clf_cv.predict(x_test)\n",
        "\n",
        "        acc_i = accuracy_score(y_test, y_pred)\n",
        "        acc_cv.append(acc_i)\n",
        "\n",
        "    acc_hyp = np.average(acc_cv)\n",
        "    acc.append(acc_hyp)\n",
        "\n",
        "    print('ACC:', acc_hyp)"
      ],
      "metadata": {
        "id": "heZ3NZwuk0f8"
      },
      "execution_count": null,
      "outputs": []
    },
    {
      "cell_type": "code",
      "source": [
        "opt_index = np.argmax(acc)\n",
        "opt_hyperparameter = gg[opt_index]\n",
        "print(\"Optimal gamma: \", opt_hyperparameter)\n",
        "\n",
        "plt.plot(gg, acc)\n",
        "plt.xscale('log')\n",
        "plt.xlabel(\"gamma\")\n",
        "plt.ylabel(\"Accuracy\")\n",
        "\n",
        "plt.show()\n",
        "\n",
        "# Fit model with optimal number of features\n",
        "clf = SVC(C=opt_hyperparameter, kernel = 'linear')\n",
        "clf.fit(x, y)"
      ],
      "metadata": {
        "colab": {
          "base_uri": "https://localhost:8080/",
          "height": 531
        },
        "id": "B8QmS2zclUgn",
        "outputId": "7f902cc3-30a4-4f5f-8923-cda98f102c0e"
      },
      "execution_count": null,
      "outputs": [
        {
          "output_type": "stream",
          "name": "stdout",
          "text": [
            "Optimal gamma:  0.0024201282647943836\n"
          ]
        },
        {
          "output_type": "display_data",
          "data": {
            "text/plain": [
              "<Figure size 640x480 with 1 Axes>"
            ],
            "image/png": "[encoded data removed]"
          },
          "metadata": {}
        },
        {
          "output_type": "execute_result",
          "data": {
            "text/plain": [
              "SVC(C=0.0024201282647943836, kernel='linear')"
            ],
            "text/html": [
              "<style>#sk-container-id-4 {color: black;background-color: white;}#sk-container-id-4 pre{padding: 0;}#sk-container-id-4 div.sk-toggleable {background-color: white;}#sk-container-id-4 label.sk-toggleable__label {cursor: pointer;display: block;width: 100%;margin-bottom: 0;padding: 0.3em;box-sizing: border-box;text-align: center;}#sk-container-id-4 label.sk-toggleable__label-arrow:before {content: \"▸\";float: left;margin-right: 0.25em;color: #696969;}#sk-container-id-4 label.sk-toggleable__label-arrow:hover:before {color: black;}#sk-container-id-4 div.sk-estimator:hover label.sk-toggleable__label-arrow:before {color: black;}#sk-container-id-4 div.sk-toggleable__content {max-height: 0;max-width: 0;overflow: hidden;text-align: left;background-color: #f0f8ff;}#sk-container-id-4 div.sk-toggleable__content pre {margin: 0.2em;color: black;border-radius: 0.25em;background-color: #f0f8ff;}#sk-container-id-4 input.sk-toggleable__control:checked~div.sk-toggleable__content {max-height: 200px;max-width: 100%;overflow: auto;}#sk-container-id-4 input.sk-toggleable__control:checked~label.sk-toggleable__label-arrow:before {content: \"▾\";}#sk-container-id-4 div.sk-estimator input.sk-toggleable__control:checked~label.sk-toggleable__label {background-color: #d4ebff;}#sk-container-id-4 div.sk-label input.sk-toggleable__control:checked~label.sk-toggleable__label {background-color: #d4ebff;}#sk-container-id-4 input.sk-hidden--visually {border: 0;clip: rect(1px 1px 1px 1px);clip: rect(1px, 1px, 1px, 1px);height: 1px;margin: -1px;overflow: hidden;padding: 0;position: absolute;width: 1px;}#sk-container-id-4 div.sk-estimator {font-family: monospace;background-color: #f0f8ff;border: 1px dotted black;border-radius: 0.25em;box-sizing: border-box;margin-bottom: 0.5em;}#sk-container-id-4 div.sk-estimator:hover {background-color: #d4ebff;}#sk-container-id-4 div.sk-parallel-item::after {content: \"\";width: 100%;border-bottom: 1px solid gray;flex-grow: 1;}#sk-container-id-4 div.sk-label:hover label.sk-toggleable__label {background-color: #d4ebff;}#sk-container-id-4 div.sk-serial::before {content: \"\";position: absolute;border-left: 1px solid gray;box-sizing: border-box;top: 0;bottom: 0;left: 50%;z-index: 0;}#sk-container-id-4 div.sk-serial {display: flex;flex-direction: column;align-items: center;background-color: white;padding-right: 0.2em;padding-left: 0.2em;position: relative;}#sk-container-id-4 div.sk-item {position: relative;z-index: 1;}#sk-container-id-4 div.sk-parallel {display: flex;align-items: stretch;justify-content: center;background-color: white;position: relative;}#sk-container-id-4 div.sk-item::before, #sk-container-id-4 div.sk-parallel-item::before {content: \"\";position: absolute;border-left: 1px solid gray;box-sizing: border-box;top: 0;bottom: 0;left: 50%;z-index: -1;}#sk-container-id-4 div.sk-parallel-item {display: flex;flex-direction: column;z-index: 1;position: relative;background-color: white;}#sk-container-id-4 div.sk-parallel-item:first-child::after {align-self: flex-end;width: 50%;}#sk-container-id-4 div.sk-parallel-item:last-child::after {align-self: flex-start;width: 50%;}#sk-container-id-4 div.sk-parallel-item:only-child::after {width: 0;}#sk-container-id-4 div.sk-dashed-wrapped {border: 1px dashed gray;margin: 0 0.4em 0.5em 0.4em;box-sizing: border-box;padding-bottom: 0.4em;background-color: white;}#sk-container-id-4 div.sk-label label {font-family: monospace;font-weight: bold;display: inline-block;line-height: 1.2em;}#sk-container-id-4 div.sk-label-container {text-align: center;}#sk-container-id-4 div.sk-container {/* jupyter's `normalize.less` sets `[hidden] { display: none; }` but bootstrap.min.css set `[hidden] { display: none !important; }` so we also need the `!important` here to be able to override the default hidden behavior on the sphinx rendered scikit-learn.org. See: https://github.com/scikit-learn/scikit-learn/issues/21755 */display: inline-block !important;position: relative;}#sk-container-id-4 div.sk-text-repr-fallback {display: none;}</style><div id=\"sk-container-id-4\" class=\"sk-top-container\"><div class=\"sk-text-repr-fallback\"><pre>SVC(C=0.0024201282647943836, kernel=&#x27;linear&#x27;)</pre><b>In a Jupyter environment, please rerun this cell to show the HTML representation or trust the notebook. <br />On GitHub, the HTML representation is unable to render, please try loading this page with nbviewer.org.</b></div><div class=\"sk-container\" hidden><div class=\"sk-item\"><div class=\"sk-estimator sk-toggleable\"><input class=\"sk-toggleable__control sk-hidden--visually\" id=\"sk-estimator-id-4\" type=\"checkbox\" checked><label for=\"sk-estimator-id-4\" class=\"sk-toggleable__label sk-toggleable__label-arrow\">SVC</label><div class=\"sk-toggleable__content\"><pre>SVC(C=0.0024201282647943836, kernel=&#x27;linear&#x27;)</pre></div></div></div></div></div>"
            ]
          },
          "metadata": {},
          "execution_count": 39
        }
      ]
    },
    {
      "cell_type": "markdown",
      "source": [
        "### Paso 4\n",
        "Prepara tus modelos para producción haciendo lo siguiente:\n",
        "\n",
        "A. Opten los hiperparámetros óptimos utilizando todo el conjunto de datos con validación cruzada.\n",
        "\n",
        "B. Con los hiperparámetros óptimos, ajusta el modelo con todos los datos."
      ],
      "metadata": {
        "id": "dJ0bA6MXhSu_"
      }
    },
    {
      "cell_type": "code",
      "source": [
        "# Create an SVM model with linear kernel\n",
        "svm_model = SVC(kernel='linear')\n",
        "\n",
        "# Evaluation with k-Fold Cross-Validation\n",
        "print(\"----- Model evaluation with k-Fold Cross-Validation -----\")\n",
        "kf = StratifiedKFold(n_splits=5, shuffle=True)\n",
        "cv_y_test = []\n",
        "cv_y_pred = []\n",
        "\n",
        "for train_index, test_index in kf.split(x, y):\n",
        "    x_train = x[train_index, :]\n",
        "    y_train = y[train_index]\n",
        "    x_test = x[test_index, :]\n",
        "    y_test = y[test_index]\n",
        "\n",
        "    # Perform hyperparameter grid search for SVM\n",
        "    parameters = {'C': [0.1, 1, 10]}\n",
        "    clf_cv = GridSearchCV(svm_model, parameters, cv=5)\n",
        "    clf_cv.fit(x_train, y_train)\n",
        "\n",
        "    # Predict on the test set\n",
        "    y_pred = clf_cv.predict(x_test)\n",
        "    cv_y_test.append(y_test)\n",
        "    cv_y_pred.append(y_pred)\n",
        "\n",
        "# Calculate and print the classification report\n",
        "print(classification_report(np.concatenate(cv_y_test), np.concatenate(cv_y_pred)))\n",
        "\n",
        "# Evaluation with cross_val_predict\n",
        "print(\"----- Model evaluation with cross_val_predict -----\")\n",
        "clf = GridSearchCV(svm_model, {'C': [0.1, 1, 10]}, cv=5)\n",
        "y_pred = cross_val_predict(clf, x, y, cv=5)\n",
        "print(classification_report(y, y_pred))\n",
        "\n",
        "# Production model\n",
        "print(\"----- Production model -----\")\n",
        "clf = GridSearchCV(svm_model, {'C': [0.1, 1, 10]}, cv=5)\n",
        "clf.fit(x, y)\n",
        "print(clf.best_estimator_)"
      ],
      "metadata": {
        "colab": {
          "base_uri": "https://localhost:8080/"
        },
        "id": "aM-EJu9p2yHN",
        "outputId": "5fd0f3d5-d4cb-4f5b-bafb-262dcb47cbf4"
      },
      "execution_count": null,
      "outputs": [
        {
          "output_type": "stream",
          "name": "stdout",
          "text": [
            "----- Model evaluation with k-Fold Cross-Validation -----\n",
            "              precision    recall  f1-score   support\n",
            "\n",
            "         1.0       1.00      1.00      1.00        90\n",
            "         2.0       0.95      0.98      0.96        90\n",
            "         3.0       0.97      0.96      0.96        90\n",
            "         4.0       1.00      0.99      0.99        90\n",
            "         5.0       0.99      0.96      0.97        90\n",
            "         6.0       0.91      0.92      0.92        90\n",
            "         7.0       0.99      1.00      0.99        90\n",
            "\n",
            "    accuracy                           0.97       630\n",
            "   macro avg       0.97      0.97      0.97       630\n",
            "weighted avg       0.97      0.97      0.97       630\n",
            "\n",
            "----- Model evaluation with cross_val_predict -----\n",
            "              precision    recall  f1-score   support\n",
            "\n",
            "         1.0       0.99      0.98      0.98        90\n",
            "         2.0       0.92      0.98      0.95        90\n",
            "         3.0       0.94      0.94      0.94        90\n",
            "         4.0       1.00      0.99      0.99        90\n",
            "         5.0       0.98      0.98      0.98        90\n",
            "         6.0       0.93      0.89      0.91        90\n",
            "         7.0       0.99      0.99      0.99        90\n",
            "\n",
            "    accuracy                           0.96       630\n",
            "   macro avg       0.96      0.96      0.96       630\n",
            "weighted avg       0.96      0.96      0.96       630\n",
            "\n",
            "----- Production model -----\n",
            "SVC(C=0.1, kernel='linear')\n"
          ]
        }
      ]
    },
    {
      "cell_type": "markdown",
      "source": [
        "### Paso 5\n",
        "Contesta lo siguientes:\n",
        "\n",
        "**A. ¿Observas un problema en cuanto al balanceo de las clases? ¿Por qué?**\n",
        "\n",
        "Para nada, los datos estaban completamente balanceados para las 7 clases, todos tienen la misma cantidad de muestras: 90\n",
        "\n",
        "**B. ¿Qué modelo o modelos fueron efectivos para clasificar tus datos? ¿Observas algo especial sobre los modelos? Argumenta tu respuesta.**\n",
        "\n",
        "En general la mayoria de los modelos resultaron tener una presición bastante buena para todas las muestras. Sin embargo, los dos que más se diferenciaron fueron SVM y RBM - SVM. Ambos modelos son enfoques de aprendizaje supervisado, lo que significa que requieren etiquetas de clase en los datos de entrenamiento para aprender a realizar la clasificación. También buscan optimizar funciones de pérdida para entrenar el modelo. Por último, ambos modelos pueden manejar problemas de clasificación no lineales mediante la aplicación de técnicas como el truco del kernel en SVM o mediante la introducción de capas no lineales en la RBM antes de conectarla a SVM.\n",
        "\n",
        "**C. ¿Observas alguna mejora importante al optimizar hiperparámetros? ¿Es el resultado que esperabas? Argumenta tu respuesta.**\n",
        "\n",
        "Claro que si, los rendimientos de los datos mejora. De por si los modelos tienen una presición muy alta, al ajustar los datos con hiperparámetros imcrementa la persición general de todos los modelos.\n",
        "\n",
        "**D. ¿Qué inconvenientes hay al encontrar hiperparámetros? ¿Por qué?**\n",
        "\n",
        "Problemas de Sobreajuste de Validación Cruzada: Al realizar validación cruzada durante la búsqueda de hiperparámetros, es importante tener en cuenta que los resultados de la validación cruzada pueden estar sesgados si no se manejan adecuadamente. Esto puede llevar a la selección de hiperparámetros subóptimos.\n",
        "\n",
        "Dificultad para Problemas No Lineales: En problemas no lineales, la búsqueda de hiperparámetros puede ser especialmente desafiante, ya que los efectos de los hiperparámetros pueden ser menos predecibles y más difíciles de interpretar."
      ],
      "metadata": {
        "id": "qDtUg9UvhcAe"
      }
    },
    {
      "cell_type": "code",
      "source": [
        "# Guardar en Drive como PDF\n",
        "!apt-get install -y texlive-xetex"
      ],
      "metadata": {
        "id": "bYXAv9xMypDM"
      },
      "execution_count": null,
      "outputs": []
    },
    {
      "cell_type": "code",
      "source": [
        "from google.colab import drive\n",
        "drive.mount('/content/drive')"
      ],
      "metadata": {
        "colab": {
          "base_uri": "https://localhost:8080/"
        },
        "id": "c_YuabN8yzvc",
        "outputId": "c305f715-5ef1-459c-91ce-83658f7fd722"
      },
      "execution_count": null,
      "outputs": [
        {
          "output_type": "stream",
          "name": "stdout",
          "text": [
            "Drive already mounted at /content/drive; to attempt to forcibly remount, call drive.mount(\"/content/drive\", force_remount=True).\n"
          ]
        }
      ]
    },
    {
      "cell_type": "code",
      "source": [
        "!jupyter nbconvert --to pdf '/content/drive/MyDrive/Colab Notebooks/Prob_Clasif.ipynb' --output-dir='/content/drive/MyDrive/Colab Notebooks'"
      ],
      "metadata": {
        "colab": {
          "base_uri": "https://localhost:8080/"
        },
        "id": "T-QcgchDzDtB",
        "outputId": "e3a3cf1a-7ceb-4b83-c870-14e8f21ebeb2"
      },
      "execution_count": null,
      "outputs": [
        {
          "output_type": "stream",
          "name": "stdout",
          "text": [
            "[NbConvertApp] Converting notebook /content/drive/MyDrive/Colab Notebooks/Prob_Clasif.ipynb to pdf\n",
            "[NbConvertApp] Support files will be in Prob_Clasif_files/\n",
            "[NbConvertApp] Making directory ./Prob_Clasif_files\n",
            "[NbConvertApp] Making directory ./Prob_Clasif_files\n",
            "[NbConvertApp] Making directory ./Prob_Clasif_files\n",
            "[NbConvertApp] Making directory ./Prob_Clasif_files\n",
            "[NbConvertApp] Writing 141504 bytes to notebook.tex\n",
            "[NbConvertApp] Building PDF\n",
            "[NbConvertApp] Running xelatex 3 times: ['xelatex', 'notebook.tex', '-quiet']\n",
            "[NbConvertApp] Running bibtex 1 time: ['bibtex', 'notebook']\n",
            "[NbConvertApp] WARNING | bibtex had problems, most likely because there were no citations\n",
            "[NbConvertApp] PDF successfully created\n",
            "[NbConvertApp] Writing 235357 bytes to /content/drive/MyDrive/Colab Notebooks/Prob_Clasif.pdf\n"
          ]
        }
      ]
    }
  ]
}