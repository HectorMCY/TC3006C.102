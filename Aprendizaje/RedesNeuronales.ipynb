{
  "nbformat": 4,
  "nbformat_minor": 0,
  "metadata": {
    "colab": {
      "provenance": []
    },
    "kernelspec": {
      "name": "python3",
      "display_name": "Python 3"
    },
    "language_info": {
      "name": "python"
    }
  },
  "cells": [
    {
      "cell_type": "markdown",
      "source": [
        "# **Actividad: Ajuste de redes neuronales**\n",
        "\n",
        "Héctor Manuel Cárdenas Yáñez - A01634615"
      ],
      "metadata": {
        "id": "bNQFt0jUr7FC"
      }
    },
    {
      "cell_type": "code",
      "source": [
        "# Importar Librerías\n",
        "\n",
        "import pandas as pd\n",
        "import numpy as np\n",
        "\n",
        "from sklearn.neural_network import MLPRegressor, MLPClassifier\n",
        "from sklearn.model_selection import KFold, GridSearchCV, cross_val_predict\n",
        "from sklearn.metrics import mean_squared_error, mean_absolute_error, classification_report"
      ],
      "metadata": {
        "id": "sxido4j8ujyB"
      },
      "execution_count": null,
      "outputs": []
    },
    {
      "cell_type": "markdown",
      "source": [
        "## Ejercicio 1"
      ],
      "metadata": {
        "id": "yPZOBS_NsEUk"
      }
    },
    {
      "cell_type": "code",
      "execution_count": null,
      "metadata": {
        "colab": {
          "base_uri": "https://localhost:8080/",
          "height": 206
        },
        "id": "2q9SCusNrtCV",
        "outputId": "b17c8d0b-9b14-4b32-c3e5-a100738dcf08"
      },
      "outputs": [
        {
          "output_type": "execute_result",
          "data": {
            "text/plain": [
              "  State    VR    MR     M     W     H     P     S\n",
              "0    AK   761   9.0  41.8  75.2  86.6   9.1  14.3\n",
              "1    AL   780  11.6  67.4  73.5  66.9  17.4  11.5\n",
              "2    AR   593  10.2  44.7  82.9  66.3  20.0  10.7\n",
              "3    AZ   715   8.6  84.7  88.6  78.7  15.4  12.1\n",
              "4    CA  1078  13.1  96.7  79.3  76.2  18.2  12.5"
            ],
            "text/html": [
              "\n",
              "  <div id=\"df-f6f342d0-0b69-4470-9dce-02df9229fe99\" class=\"colab-df-container\">\n",
              "    <div>\n",
              "<style scoped>\n",
              "    .dataframe tbody tr th:only-of-type {\n",
              "        vertical-align: middle;\n",
              "    }\n",
              "\n",
              "    .dataframe tbody tr th {\n",
              "        vertical-align: top;\n",
              "    }\n",
              "\n",
              "    .dataframe thead th {\n",
              "        text-align: right;\n",
              "    }\n",
              "</style>\n",
              "<table border=\"1\" class=\"dataframe\">\n",
              "  <thead>\n",
              "    <tr style=\"text-align: right;\">\n",
              "      <th></th>\n",
              "      <th>State</th>\n",
              "      <th>VR</th>\n",
              "      <th>MR</th>\n",
              "      <th>M</th>\n",
              "      <th>W</th>\n",
              "      <th>H</th>\n",
              "      <th>P</th>\n",
              "      <th>S</th>\n",
              "    </tr>\n",
              "  </thead>\n",
              "  <tbody>\n",
              "    <tr>\n",
              "      <th>0</th>\n",
              "      <td>AK</td>\n",
              "      <td>761</td>\n",
              "      <td>9.0</td>\n",
              "      <td>41.8</td>\n",
              "      <td>75.2</td>\n",
              "      <td>86.6</td>\n",
              "      <td>9.1</td>\n",
              "      <td>14.3</td>\n",
              "    </tr>\n",
              "    <tr>\n",
              "      <th>1</th>\n",
              "      <td>AL</td>\n",
              "      <td>780</td>\n",
              "      <td>11.6</td>\n",
              "      <td>67.4</td>\n",
              "      <td>73.5</td>\n",
              "      <td>66.9</td>\n",
              "      <td>17.4</td>\n",
              "      <td>11.5</td>\n",
              "    </tr>\n",
              "    <tr>\n",
              "      <th>2</th>\n",
              "      <td>AR</td>\n",
              "      <td>593</td>\n",
              "      <td>10.2</td>\n",
              "      <td>44.7</td>\n",
              "      <td>82.9</td>\n",
              "      <td>66.3</td>\n",
              "      <td>20.0</td>\n",
              "      <td>10.7</td>\n",
              "    </tr>\n",
              "    <tr>\n",
              "      <th>3</th>\n",
              "      <td>AZ</td>\n",
              "      <td>715</td>\n",
              "      <td>8.6</td>\n",
              "      <td>84.7</td>\n",
              "      <td>88.6</td>\n",
              "      <td>78.7</td>\n",
              "      <td>15.4</td>\n",
              "      <td>12.1</td>\n",
              "    </tr>\n",
              "    <tr>\n",
              "      <th>4</th>\n",
              "      <td>CA</td>\n",
              "      <td>1078</td>\n",
              "      <td>13.1</td>\n",
              "      <td>96.7</td>\n",
              "      <td>79.3</td>\n",
              "      <td>76.2</td>\n",
              "      <td>18.2</td>\n",
              "      <td>12.5</td>\n",
              "    </tr>\n",
              "  </tbody>\n",
              "</table>\n",
              "</div>\n",
              "    <div class=\"colab-df-buttons\">\n",
              "\n",
              "  <div class=\"colab-df-container\">\n",
              "    <button class=\"colab-df-convert\" onclick=\"convertToInteractive('df-f6f342d0-0b69-4470-9dce-02df9229fe99')\"\n",
              "            title=\"Convert this dataframe to an interactive table.\"\n",
              "            style=\"display:none;\">\n",
              "\n",
              "  <svg xmlns=\"http://www.w3.org/2000/svg\" height=\"24px\" viewBox=\"0 -960 960 960\">\n",
              "    <path d=\"M120-120v-720h720v720H120Zm60-500h600v-160H180v160Zm220 220h160v-160H400v160Zm0 220h160v-160H400v160ZM180-400h160v-160H180v160Zm440 0h160v-160H620v160ZM180-180h160v-160H180v160Zm440 0h160v-160H620v160Z\"/>\n",
              "  </svg>\n",
              "    </button>\n",
              "\n",
              "  <style>\n",
              "    .colab-df-container {\n",
              "      display:flex;\n",
              "      gap: 12px;\n",
              "    }\n",
              "\n",
              "    .colab-df-convert {\n",
              "      background-color: #E8F0FE;\n",
              "      border: none;\n",
              "      border-radius: 50%;\n",
              "      cursor: pointer;\n",
              "      display: none;\n",
              "      fill: #1967D2;\n",
              "      height: 32px;\n",
              "      padding: 0 0 0 0;\n",
              "      width: 32px;\n",
              "    }\n",
              "\n",
              "    .colab-df-convert:hover {\n",
              "      background-color: #E2EBFA;\n",
              "      box-shadow: 0px 1px 2px rgba(60, 64, 67, 0.3), 0px 1px 3px 1px rgba(60, 64, 67, 0.15);\n",
              "      fill: #174EA6;\n",
              "    }\n",
              "\n",
              "    .colab-df-buttons div {\n",
              "      margin-bottom: 4px;\n",
              "    }\n",
              "\n",
              "    [theme=dark] .colab-df-convert {\n",
              "      background-color: #3B4455;\n",
              "      fill: #D2E3FC;\n",
              "    }\n",
              "\n",
              "    [theme=dark] .colab-df-convert:hover {\n",
              "      background-color: #434B5C;\n",
              "      box-shadow: 0px 1px 3px 1px rgba(0, 0, 0, 0.15);\n",
              "      filter: drop-shadow(0px 1px 2px rgba(0, 0, 0, 0.3));\n",
              "      fill: #FFFFFF;\n",
              "    }\n",
              "  </style>\n",
              "\n",
              "    <script>\n",
              "      const buttonEl =\n",
              "        document.querySelector('#df-f6f342d0-0b69-4470-9dce-02df9229fe99 button.colab-df-convert');\n",
              "      buttonEl.style.display =\n",
              "        google.colab.kernel.accessAllowed ? 'block' : 'none';\n",
              "\n",
              "      async function convertToInteractive(key) {\n",
              "        const element = document.querySelector('#df-f6f342d0-0b69-4470-9dce-02df9229fe99');\n",
              "        const dataTable =\n",
              "          await google.colab.kernel.invokeFunction('convertToInteractive',\n",
              "                                                    [key], {});\n",
              "        if (!dataTable) return;\n",
              "\n",
              "        const docLinkHtml = 'Like what you see? Visit the ' +\n",
              "          '<a target=\"_blank\" href=https://colab.research.google.com/notebooks/data_table.ipynb>data table notebook</a>'\n",
              "          + ' to learn more about interactive tables.';\n",
              "        element.innerHTML = '';\n",
              "        dataTable['output_type'] = 'display_data';\n",
              "        await google.colab.output.renderOutput(dataTable, element);\n",
              "        const docLink = document.createElement('div');\n",
              "        docLink.innerHTML = docLinkHtml;\n",
              "        element.appendChild(docLink);\n",
              "      }\n",
              "    </script>\n",
              "  </div>\n",
              "\n",
              "\n",
              "<div id=\"df-2be6004a-546a-44ac-b219-a96a06584aec\">\n",
              "  <button class=\"colab-df-quickchart\" onclick=\"quickchart('df-2be6004a-546a-44ac-b219-a96a06584aec')\"\n",
              "            title=\"Suggest charts.\"\n",
              "            style=\"display:none;\">\n",
              "\n",
              "<svg xmlns=\"http://www.w3.org/2000/svg\" height=\"24px\"viewBox=\"0 0 24 24\"\n",
              "     width=\"24px\">\n",
              "    <g>\n",
              "        <path d=\"M19 3H5c-1.1 0-2 .9-2 2v14c0 1.1.9 2 2 2h14c1.1 0 2-.9 2-2V5c0-1.1-.9-2-2-2zM9 17H7v-7h2v7zm4 0h-2V7h2v10zm4 0h-2v-4h2v4z\"/>\n",
              "    </g>\n",
              "</svg>\n",
              "  </button>\n",
              "\n",
              "<style>\n",
              "  .colab-df-quickchart {\n",
              "      --bg-color: #E8F0FE;\n",
              "      --fill-color: #1967D2;\n",
              "      --hover-bg-color: #E2EBFA;\n",
              "      --hover-fill-color: #174EA6;\n",
              "      --disabled-fill-color: #AAA;\n",
              "      --disabled-bg-color: #DDD;\n",
              "  }\n",
              "\n",
              "  [theme=dark] .colab-df-quickchart {\n",
              "      --bg-color: #3B4455;\n",
              "      --fill-color: #D2E3FC;\n",
              "      --hover-bg-color: #434B5C;\n",
              "      --hover-fill-color: #FFFFFF;\n",
              "      --disabled-bg-color: #3B4455;\n",
              "      --disabled-fill-color: #666;\n",
              "  }\n",
              "\n",
              "  .colab-df-quickchart {\n",
              "    background-color: var(--bg-color);\n",
              "    border: none;\n",
              "    border-radius: 50%;\n",
              "    cursor: pointer;\n",
              "    display: none;\n",
              "    fill: var(--fill-color);\n",
              "    height: 32px;\n",
              "    padding: 0;\n",
              "    width: 32px;\n",
              "  }\n",
              "\n",
              "  .colab-df-quickchart:hover {\n",
              "    background-color: var(--hover-bg-color);\n",
              "    box-shadow: 0 1px 2px rgba(60, 64, 67, 0.3), 0 1px 3px 1px rgba(60, 64, 67, 0.15);\n",
              "    fill: var(--button-hover-fill-color);\n",
              "  }\n",
              "\n",
              "  .colab-df-quickchart-complete:disabled,\n",
              "  .colab-df-quickchart-complete:disabled:hover {\n",
              "    background-color: var(--disabled-bg-color);\n",
              "    fill: var(--disabled-fill-color);\n",
              "    box-shadow: none;\n",
              "  }\n",
              "\n",
              "  .colab-df-spinner {\n",
              "    border: 2px solid var(--fill-color);\n",
              "    border-color: transparent;\n",
              "    border-bottom-color: var(--fill-color);\n",
              "    animation:\n",
              "      spin 1s steps(1) infinite;\n",
              "  }\n",
              "\n",
              "  @keyframes spin {\n",
              "    0% {\n",
              "      border-color: transparent;\n",
              "      border-bottom-color: var(--fill-color);\n",
              "      border-left-color: var(--fill-color);\n",
              "    }\n",
              "    20% {\n",
              "      border-color: transparent;\n",
              "      border-left-color: var(--fill-color);\n",
              "      border-top-color: var(--fill-color);\n",
              "    }\n",
              "    30% {\n",
              "      border-color: transparent;\n",
              "      border-left-color: var(--fill-color);\n",
              "      border-top-color: var(--fill-color);\n",
              "      border-right-color: var(--fill-color);\n",
              "    }\n",
              "    40% {\n",
              "      border-color: transparent;\n",
              "      border-right-color: var(--fill-color);\n",
              "      border-top-color: var(--fill-color);\n",
              "    }\n",
              "    60% {\n",
              "      border-color: transparent;\n",
              "      border-right-color: var(--fill-color);\n",
              "    }\n",
              "    80% {\n",
              "      border-color: transparent;\n",
              "      border-right-color: var(--fill-color);\n",
              "      border-bottom-color: var(--fill-color);\n",
              "    }\n",
              "    90% {\n",
              "      border-color: transparent;\n",
              "      border-bottom-color: var(--fill-color);\n",
              "    }\n",
              "  }\n",
              "</style>\n",
              "\n",
              "  <script>\n",
              "    async function quickchart(key) {\n",
              "      const quickchartButtonEl =\n",
              "        document.querySelector('#' + key + ' button');\n",
              "      quickchartButtonEl.disabled = true;  // To prevent multiple clicks.\n",
              "      quickchartButtonEl.classList.add('colab-df-spinner');\n",
              "      try {\n",
              "        const charts = await google.colab.kernel.invokeFunction(\n",
              "            'suggestCharts', [key], {});\n",
              "      } catch (error) {\n",
              "        console.error('Error during call to suggestCharts:', error);\n",
              "      }\n",
              "      quickchartButtonEl.classList.remove('colab-df-spinner');\n",
              "      quickchartButtonEl.classList.add('colab-df-quickchart-complete');\n",
              "    }\n",
              "    (() => {\n",
              "      let quickchartButtonEl =\n",
              "        document.querySelector('#df-2be6004a-546a-44ac-b219-a96a06584aec button');\n",
              "      quickchartButtonEl.style.display =\n",
              "        google.colab.kernel.accessAllowed ? 'block' : 'none';\n",
              "    })();\n",
              "  </script>\n",
              "</div>\n",
              "    </div>\n",
              "  </div>\n"
            ]
          },
          "metadata": {},
          "execution_count": 14
        }
      ],
      "source": [
        "# Cargar los datos\n",
        "df = pd.read_csv('/content/crime_data.csv')\n",
        "df.head()"
      ]
    },
    {
      "cell_type": "code",
      "source": [
        "# Eliminamos columnas innecesarias\n",
        "eliminar = ['VR', 'P']\n",
        "df = df.drop(eliminar, axis=1)"
      ],
      "metadata": {
        "id": "r--nLAIjvayq"
      },
      "execution_count": null,
      "outputs": []
    },
    {
      "cell_type": "code",
      "source": [
        "# Definimos las variables\n",
        "x = df[['M', 'W', 'H', 'S']].values # Variables predictoras\n",
        "y = df['MR'].values # Variable de respuesta"
      ],
      "metadata": {
        "id": "9r2piPgfwRSw"
      },
      "execution_count": null,
      "outputs": []
    },
    {
      "cell_type": "markdown",
      "source": [
        "### 1. Evalúa con validación cruzada un modelo pereceptrón multicapa para las variables que se te asignaron para este ejercicio."
      ],
      "metadata": {
        "id": "0bE_uUDusaxb"
      }
    },
    {
      "cell_type": "code",
      "source": [
        "# Features\n",
        "features = x\n",
        "n_features = len(x)\n",
        "\n",
        "# Fit regression model using the complete dataset and calculate MSE and MAE\n",
        "regr = MLPRegressor(hidden_layer_sizes=(20, 20), max_iter=20000)\n",
        "regr.fit(x, y)\n",
        "\n",
        "y_pred = regr.predict(x)\n",
        "print('MSE: ', mean_squared_error(y, y_pred))\n",
        "print(\"MAE: \", mean_absolute_error(y, y_pred))\n",
        "\n",
        "# Evaluate regression model using k-fold cross-validation\n",
        "n_folds = 5\n",
        "kf = KFold(n_splits=n_folds, shuffle = True)\n",
        "\n",
        "mse_cv = []\n",
        "mae_cv = []\n",
        "for train_index, test_index in kf.split(x):\n",
        "    # Training phase\n",
        "    x_train = x[train_index, :]\n",
        "    y_train = y[train_index]\n",
        "    regr_cv = MLPRegressor(hidden_layer_sizes=(20, 20), max_iter=20000)\n",
        "    regr_cv.fit(x_train, y_train)\n",
        "\n",
        "    # Test phase\n",
        "    x_test = x[test_index, :]\n",
        "    y_test = y[test_index]\n",
        "    y_pred = regr_cv.predict(x_test)\n",
        "\n",
        "    # Calculate MSE and MAE\n",
        "    mse_i = mean_squared_error(y_test, y_pred)\n",
        "    print('mse = ', mse_i)\n",
        "    mse_cv.append(mse_i)\n",
        "\n",
        "    mae_i = mean_absolute_error(y_test, y_pred)\n",
        "    print('mae = ', mae_i)\n",
        "    mae_cv.append(mae_i)\n",
        "\n",
        "print('MSE:', np.average(mse_cv), '  MAE:', np.average(mae_cv))"
      ],
      "metadata": {
        "colab": {
          "base_uri": "https://localhost:8080/"
        },
        "id": "-LG0JF3sxFGE",
        "outputId": "431f320c-85b7-43cd-ed92-7b0e73d8cfcd"
      },
      "execution_count": null,
      "outputs": [
        {
          "output_type": "stream",
          "name": "stdout",
          "text": [
            "MSE:  2.3263091269118688\n",
            "MAE:  1.1990011073294324\n",
            "mse =  27.28026165787329\n",
            "mae =  4.288196680704442\n",
            "mse =  569.7720151479743\n",
            "mae =  12.446261082114061\n",
            "mse =  8.115622033211768\n",
            "mae =  2.4287489425956235\n",
            "mse =  161.3614751222328\n",
            "mae =  5.841685578382941\n",
            "mse =  5.140627821321422\n",
            "mae =  1.921992735126101\n",
            "MSE: 154.33400035652275   MAE: 5.385377003784633\n"
          ]
        }
      ]
    },
    {
      "cell_type": "markdown",
      "source": [
        "### 2. Agrega al conjunto de datos columnas que representen los cuadrados de las variables predictoras (por ejemplo, M2, W2), así como los productos entre pares de variables (por ejemplo, PxS, MxW). Evalúa un modelo perceptrón multicapa para este nuevo conjunto de datos."
      ],
      "metadata": {
        "id": "j5UQMVpnsnVz"
      }
    },
    {
      "cell_type": "code",
      "source": [
        "# Definimos los cuadrados y productos de las variables predictoras\n",
        "df['M2'] = df['M'] ** 2\n",
        "df['W2'] = df['W'] ** 2\n",
        "df['H2'] = df['H'] ** 2\n",
        "df['S2'] = df['S'] ** 2\n",
        "\n",
        "df['MxW'] = df['M'] * df['W']\n",
        "df['MxH'] = df['M'] * df['H']\n",
        "df['MxS'] = df['M'] * df['S']\n",
        "\n",
        "df['WxH'] = df['W'] * df['H']\n",
        "df['WxS'] = df['W'] * df['S']\n",
        "\n",
        "df['HxS'] = df['H'] * df['S']\n",
        "\n",
        "# Redefinimos los valores \"x\" y \"y\"\n",
        "x = df[['M', 'W', 'H', 'S','M2', 'W2', 'H2', 'S2', 'MxW', 'MxH', 'MxS', 'WxH', 'WxS', 'HxS']].values\n",
        "y = df['MR'].values"
      ],
      "metadata": {
        "id": "S7XYuY5Usspu"
      },
      "execution_count": null,
      "outputs": []
    },
    {
      "cell_type": "code",
      "source": [
        "# Features\n",
        "features = x\n",
        "n_features = len(x)\n",
        "\n",
        "# Fit regression model using the complete dataset and calculate MSE and MAE\n",
        "regr = MLPRegressor(hidden_layer_sizes=(20, 20), max_iter=20000)\n",
        "regr.fit(x, y)\n",
        "\n",
        "y_pred = regr.predict(x)\n",
        "print('MSE: ', mean_squared_error(y, y_pred))\n",
        "print(\"MAE: \", mean_absolute_error(y, y_pred))\n",
        "\n",
        "# Evaluate regression model using k-fold cross-validation\n",
        "n_folds = 5\n",
        "kf = KFold(n_splits=n_folds, shuffle = True)\n",
        "\n",
        "mse_cv = []\n",
        "mae_cv = []\n",
        "for train_index, test_index in kf.split(x):\n",
        "    # Training phase\n",
        "    x_train = x[train_index, :]\n",
        "    y_train = y[train_index]\n",
        "    regr_cv = MLPRegressor(hidden_layer_sizes=(20, 20), max_iter=20000)\n",
        "    regr_cv.fit(x_train, y_train)\n",
        "\n",
        "    # Test phase\n",
        "    x_test = x[test_index, :]\n",
        "    y_test = y[test_index]\n",
        "    y_pred = regr_cv.predict(x_test)\n",
        "\n",
        "    # Calculate MSE and MAE\n",
        "    mse_i = mean_squared_error(y_test, y_pred)\n",
        "    print('mse = ', mse_i)\n",
        "    mse_cv.append(mse_i)\n",
        "\n",
        "    mae_i = mean_absolute_error(y_test, y_pred)\n",
        "    print('mae = ', mae_i)\n",
        "    mae_cv.append(mae_i)\n",
        "\n",
        "print('MSE:', np.average(mse_cv), '  MAE:', np.average(mae_cv))"
      ],
      "metadata": {
        "colab": {
          "base_uri": "https://localhost:8080/"
        },
        "id": "wTFn4i4LySyD",
        "outputId": "67f25869-8382-461f-a4a5-f103c518d867"
      },
      "execution_count": null,
      "outputs": [
        {
          "output_type": "stream",
          "name": "stdout",
          "text": [
            "MSE:  9.027981148582542\n",
            "MAE:  2.3678548029262627\n",
            "mse =  181319.9892995284\n",
            "mae =  359.67854171809006\n",
            "mse =  45529.60676069503\n",
            "mae =  186.0857461838582\n",
            "mse =  50982.20081256821\n",
            "mae =  195.7689785566457\n",
            "mse =  713.1068114324815\n",
            "mae =  18.56224333255103\n",
            "mse =  82.90743363693362\n",
            "mae =  5.866265917414897\n",
            "MSE: 55725.562223572204   MAE: 153.19235514171197\n"
          ]
        }
      ]
    },
    {
      "cell_type": "markdown",
      "source": [
        "### 3. Viendo los resultados de regresión, desarrolla una conclusión sobre los siguientes puntos:\n",
        "\n",
        "**A. ¿Consideras que el modelo perceptrón multicapa es efectivo para modelar los datos del problema? ¿Por qué?**\n",
        "\n",
        "Analizando los resultados de ambos métodos podemos darnos cuenta que el modelo sin inclusión de cuadrados presenta un mejor ahuste general de MSE: 154.33400035652275   MAE: 5.385377003784633, a comparación de los resultaods incluyendo los cuadrados de MSE: 55725.562223572204   MAE: 153.19235514171197. Sin embargo, cabe resaltar que ningunos de los modelos presenta una solución eficiente, ambos tienen errores bastante altos, por lo que no evaluan efectivamente los datos.\n",
        "\n",
        "**B. ¿Qué modelo es mejor para los datos de criminalidad, el lineal o el perceptrón multicapa? ¿Por qué?**\n",
        "\n",
        "En base a las métricas de rendimiento, el modelo de regresión lineal es preferible sobre el perceptrón multicapa para los datos de criminalidad. Los resultados de MSE y MAE son\n",
        "considerablemente bajos para indicar que el modelo de perceptrón multicapa sea más eficiente que modelo de regresión lineal.\n"
      ],
      "metadata": {
        "id": "DIHr9FV8svVQ"
      }
    },
    {
      "cell_type": "markdown",
      "source": [
        "## Ejercicio 2"
      ],
      "metadata": {
        "id": "wk7NWsyws-NX"
      }
    },
    {
      "cell_type": "code",
      "source": [
        "# Cargar los datos\n",
        "data_2 = np.loadtxt('/content/M_1.txt')\n",
        "\n",
        "# Definimos las variables regresoras y dependiente\n",
        "x = data_2[:,2:]\n",
        "y = data_2[:,0]"
      ],
      "metadata": {
        "id": "eK2JgYbz03s1"
      },
      "execution_count": null,
      "outputs": []
    },
    {
      "cell_type": "markdown",
      "source": [
        "### 1. Evalúa un modelo perceptrón multicapa con validación cruzada utilizando al menos 5 capas de 20 neuronas."
      ],
      "metadata": {
        "id": "MJkWAqELtF-S"
      }
    },
    {
      "cell_type": "code",
      "source": [
        "%%time\n",
        "features = x\n",
        "n_features = len(x)\n",
        "\n",
        "# Train model with all observations (two layers of 100 neurons)\n",
        "clf = MLPClassifier(hidden_layer_sizes=(20, 20, 20, 20, 20), max_iter=10000)\n",
        "clf.fit(x, y)\n",
        "\n",
        "# Evaluate model (two layers of 100 neurons)\n",
        "y_pred = cross_val_predict(MLPClassifier(hidden_layer_sizes=(20, 20, 20, 20, 20), max_iter=10000), x, y)\n",
        "print(classification_report(y, y_pred))"
      ],
      "metadata": {
        "colab": {
          "base_uri": "https://localhost:8080/"
        },
        "id": "QnvjdUU6tKL_",
        "outputId": "c77ae4ce-1708-45f9-beba-54dcd51dd7c8"
      },
      "execution_count": null,
      "outputs": [
        {
          "output_type": "stream",
          "name": "stdout",
          "text": [
            "              precision    recall  f1-score   support\n",
            "\n",
            "         1.0       0.95      1.00      0.97        90\n",
            "         2.0       0.91      0.89      0.90        90\n",
            "         3.0       0.92      0.92      0.92        90\n",
            "         4.0       1.00      0.98      0.99        90\n",
            "         5.0       0.97      0.94      0.96        90\n",
            "         6.0       0.85      0.86      0.85        90\n",
            "         7.0       0.99      0.99      0.99        90\n",
            "\n",
            "    accuracy                           0.94       630\n",
            "   macro avg       0.94      0.94      0.94       630\n",
            "weighted avg       0.94      0.94      0.94       630\n",
            "\n",
            "CPU times: user 5.57 s, sys: 2.9 s, total: 8.47 s\n",
            "Wall time: 5.17 s\n"
          ]
        }
      ]
    },
    {
      "cell_type": "markdown",
      "source": [
        "### 2. Evalúa un modelo perceptrón multicapa con validación cruzada, pero encontrando el número óptimo de capas y neuronas de la red."
      ],
      "metadata": {
        "id": "dmaf9mc0tKko"
      }
    },
    {
      "cell_type": "code",
      "source": [
        "%%time\n",
        "# Optimal number of layers and neurons\n",
        "num_layers = np.arange(1, 20, 5)\n",
        "num_neurons = np.arange(10, 110, 20)\n",
        "\n",
        "layers = []\n",
        "\n",
        "for l in num_layers:\n",
        "    for n in num_neurons:\n",
        "        layers.append(l*[n])\n",
        "\n",
        "clf = GridSearchCV(MLPClassifier(max_iter=10000), {'hidden_layer_sizes': layers}, cv = 5)\n",
        "clf.fit(x, y)\n",
        "print(clf.best_estimator_)"
      ],
      "metadata": {
        "colab": {
          "base_uri": "https://localhost:8080/"
        },
        "id": "jfu7gjxjtWb-",
        "outputId": "8bc7c7b5-87b6-438d-b992-9980291ec244"
      },
      "execution_count": null,
      "outputs": [
        {
          "output_type": "stream",
          "name": "stdout",
          "text": [
            "MLPClassifier(hidden_layer_sizes=[50], max_iter=10000)\n",
            "CPU times: user 2min 53s, sys: 1min 10s, total: 4min 4s\n",
            "Wall time: 2min 17s\n"
          ]
        }
      ]
    },
    {
      "cell_type": "markdown",
      "source": [
        "### 3. Prepara el modelo perceptrón multicapa:\n",
        "\n",
        "A. Opten los hiperparámetros óptimos de capas y neuronas de la red.\n",
        "\n",
        "B. Con los hiperparámetros óptimos, ajusta el modelo con todos los datos."
      ],
      "metadata": {
        "id": "GYjdTU3htW5N"
      }
    },
    {
      "cell_type": "code",
      "source": [
        "%%time\n",
        "# Evaluate model finding the optimal number of layers and neurons\n",
        "clf = GridSearchCV(MLPClassifier(max_iter=10000), {'hidden_layer_sizes': layers}, cv = 5)\n",
        "y_pred = cross_val_predict(clf, x, y, cv = 5)\n",
        "print(classification_report(y, y_pred))"
      ],
      "metadata": {
        "colab": {
          "base_uri": "https://localhost:8080/"
        },
        "id": "P9KJ0nhE2dyB",
        "outputId": "31da4c3e-52e5-4aad-8a82-10ce62312f57"
      },
      "execution_count": null,
      "outputs": [
        {
          "output_type": "stream",
          "name": "stdout",
          "text": [
            "              precision    recall  f1-score   support\n",
            "\n",
            "         1.0       0.97      0.99      0.98        90\n",
            "         2.0       0.94      0.98      0.96        90\n",
            "         3.0       0.97      0.96      0.96        90\n",
            "         4.0       1.00      0.98      0.99        90\n",
            "         5.0       0.98      0.98      0.98        90\n",
            "         6.0       0.93      0.91      0.92        90\n",
            "         7.0       0.99      0.98      0.98        90\n",
            "\n",
            "    accuracy                           0.97       630\n",
            "   macro avg       0.97      0.97      0.97       630\n",
            "weighted avg       0.97      0.97      0.97       630\n",
            "\n",
            "CPU times: user 10min 36s, sys: 4min 28s, total: 15min 5s\n",
            "Wall time: 8min 22s\n"
          ]
        }
      ]
    },
    {
      "cell_type": "markdown",
      "source": [
        "### 4. Contesta lo siguientes:\n",
        "A. ¿Observas alguna mejora importante al optimizar el tamaño de la red? ¿Es el resultado que esperabas? Argumenta tu respuesta.\n",
        "\n",
        "El modelo inicial tiene un excelente rendimiento de un 94% de presición. Implementando las capas de redes neuronales el modelos mejoró a un promedio de 97%, por lo que en general mejoró un 0.03%.\n",
        "\n",
        "B. ¿Qué inconvenientes hay al encontrar el tamaño óptimo de la red? ¿Por qué?\n",
        "\n",
        "Realmente el único inconveniente que hay es el tiempo y la capacidad. El tiempo es basicamente el doble o más. Considerando la mejora de un 0.03% en general se debería analizar si es más óptimo implemetar las capas o no. Sin embargo la mejora si es evidente."
      ],
      "metadata": {
        "id": "MKoubb5gtgGF"
      }
    },
    {
      "cell_type": "code",
      "source": [
        "# Guardar en Drive como PDF\n",
        "!apt-get install -y texlive-xetex"
      ],
      "metadata": {
        "id": "gemIZzeo7Gej"
      },
      "execution_count": null,
      "outputs": []
    },
    {
      "cell_type": "code",
      "source": [
        "from google.colab import drive\n",
        "drive.mount('/content/drive')"
      ],
      "metadata": {
        "colab": {
          "base_uri": "https://localhost:8080/"
        },
        "id": "IBtf_B1L7HXx",
        "outputId": "be40afa7-574c-4336-bbb3-1a7055b9f93a"
      },
      "execution_count": null,
      "outputs": [
        {
          "output_type": "stream",
          "name": "stdout",
          "text": [
            "Mounted at /content/drive\n"
          ]
        }
      ]
    },
    {
      "cell_type": "code",
      "source": [
        "!jupyter nbconvert --to pdf '/content/drive/MyDrive/Colab Notebooks/RedesNeuronales.ipynb' --output-dir='/content/drive/MyDrive/Colab Notebooks'"
      ],
      "metadata": {
        "colab": {
          "base_uri": "https://localhost:8080/"
        },
        "id": "rvXDyvLs7Hmb",
        "outputId": "cfa6c331-bcc9-44ad-c42f-1c47b98ee80f"
      },
      "execution_count": null,
      "outputs": [
        {
          "output_type": "stream",
          "name": "stdout",
          "text": [
            "[NbConvertApp] Converting notebook /content/drive/MyDrive/Colab Notebooks/RedesNeuronales.ipynb to pdf\n",
            "[NbConvertApp] Writing 48281 bytes to notebook.tex\n",
            "[NbConvertApp] Building PDF\n",
            "[NbConvertApp] Running xelatex 3 times: ['xelatex', 'notebook.tex', '-quiet']\n",
            "[NbConvertApp] Running bibtex 1 time: ['bibtex', 'notebook']\n",
            "[NbConvertApp] WARNING | bibtex had problems, most likely because there were no citations\n",
            "[NbConvertApp] PDF successfully created\n",
            "[NbConvertApp] Writing 61844 bytes to /content/drive/MyDrive/Colab Notebooks/RedesNeuronales.pdf\n"
          ]
        }
      ]
    }
  ]
}