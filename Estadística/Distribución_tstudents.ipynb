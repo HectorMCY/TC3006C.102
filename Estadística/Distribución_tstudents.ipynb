{
  "nbformat": 4,
  "nbformat_minor": 0,
  "metadata": {
    "colab": {
      "provenance": []
    },
    "kernelspec": {
      "name": "python3",
      "display_name": "Python 3"
    },
    "language_info": {
      "name": "python"
    }
  },
  "cells": [
    {
      "cell_type": "markdown",
      "source": [
        "# **Distribución t-student**\n",
        "\n",
        "Héctor Manuel Cárdenas Yáñez - A01634615"
      ],
      "metadata": {
        "id": "T17GoAUqBMPO"
      }
    },
    {
      "cell_type": "markdown",
      "source": [
        "Resuleve el siguiente problema en Python\n",
        "\n",
        "Un nutricionista está investigando el contenido de vitamina C en dos tipos de jugo de naranja. Tomó muestras aleatorias de cada tipo de jugo y registró los siguientes niveles promedio de vitamina C en miligramos por 100 ml:\n",
        "\n",
        "Tipo de jugo A: 20, 25, 22, 23, 28, 26, 24, 21, 27, 25, 24, 22, 23, 26, 25, 23, 24, 22, 27, 26, 25, 24, 23, 22, 21, 26, 24, 25, 22, 23.\n",
        "Tipo de jugo B: 19, 18, 21, 20, 23, 22, 20, 19, 22, 21, 20, 19, 18, 23, 22, 21, 20, 19, 23, 22, 21, 20, 19, 18, 23, 22, 21, 20, 19, 18.\n",
        "\n",
        "Calcula un intervalo de confianza del 99% para la media poblacional del contenido de vitamina C de ambos jugos.\n",
        "\n",
        "Pasos que debes de seguir para resolver el problema:\n",
        "\n",
        "1.- Convierte los datos en un DataFrame. Esto te ayudará a realizar tus cálculos\n",
        "\n",
        "2.- Realiza una gráfica QQ-plot para determinar si los datos siguen una distribución normal. Recuerda que por defecto el método QQ-plot compara los datos con una normal estandar. Para obtener un correcto ajuste estandariza los datos o cambia los parámetros de la gráfica QQ-plot.\n",
        "\n",
        "3.- Aplica el test de Kolmogorov Smirnov para asegurarte si los datos son o no normales. Por defecto el test Kolmogorov compara los datos con una normal estandar, cambia los parámetros o estandariza los datos.\n",
        "\n",
        "4.- En caso de que no sean normales considera que tienen una distribución t-student.\n",
        "\n",
        "5.- Calcula el intervalo de confianza de acuerdo con la distribución de los datos y el nivel de confianza solicitado.\n",
        "\n"
      ],
      "metadata": {
        "id": "gMSeZ2BiBjRn"
      }
    },
    {
      "cell_type": "code",
      "execution_count": null,
      "metadata": {
        "id": "ETa8QYpK_kGf"
      },
      "outputs": [],
      "source": [
        "# Importar Librerias\n",
        "import pandas as pd\n",
        "import numpy as np\n",
        "from scipy.stats import t\n",
        "import matplotlib.pyplot as plt\n",
        "import statsmodels.api as sm\n",
        "from scipy.stats import kstest"
      ]
    },
    {
      "cell_type": "markdown",
      "source": [
        "Paso 1.\n",
        "- Convierte los datos en un DataFrame. Esto te ayudará a realizar tus cálculos"
      ],
      "metadata": {
        "id": "ZxCihoQxCwY9"
      }
    },
    {
      "cell_type": "code",
      "source": [
        "# Datos de los dos tipos de jugo\n",
        "jugo_a = [20, 25, 22, 23, 28, 26, 24, 21, 27, 25, 24, 22, 23, 26, 25, 23, 24, 22, 27, 26, 25, 24, 23, 22, 21, 26, 24, 25, 22, 23]\n",
        "jugo_b = [19, 18, 21, 20, 23, 22, 20, 19, 22, 21, 20, 19, 18, 23, 22, 21, 20, 19, 23, 22, 21, 20, 19, 18, 23, 22, 21, 20, 19, 18]\n",
        "\n",
        "# Crear un DataFrame\n",
        "df = pd.DataFrame({'Jugo A': jugo_a, 'Jugo B': jugo_b})"
      ],
      "metadata": {
        "id": "fFHv3WDVAfsG"
      },
      "execution_count": null,
      "outputs": []
    },
    {
      "cell_type": "code",
      "source": [
        "# Calcular la media y la desviación estándar de cada tipo de jugo\n",
        "media_jugo_a = np.mean(jugo_a)\n",
        "media_jugo_b = np.mean(jugo_b)\n",
        "desviacion_estandar_jugo_a = np.std(jugo_a, ddof=1)  # ddof=1 para calcular la desviación estándar muestral\n",
        "desviacion_estandar_jugo_b = np.std(jugo_b, ddof=1)\n",
        "\n",
        "# Número de observaciones\n",
        "n_jugo_a = len(jugo_a)\n",
        "n_jugo_b = len(jugo_b)\n",
        "\n",
        "# Grados de libertad para el intervalo de confianza\n",
        "grados_libertad = n_jugo_a + n_jugo_b - 2\n",
        "\n",
        "# Nivel de confianza (99%)\n",
        "nivel_confianza = 0.99\n",
        "\n",
        "# Valor crítico de t (bilateral)\n",
        "valor_critico_t = t.ppf(1 - (1 - nivel_confianza) / 2, df=grados_libertad)\n",
        "\n",
        "# Error estándar de la diferencia de medias\n",
        "error_estandar_diferencia = np.sqrt((desviacion_estandar_jugo_a**2 / n_jugo_a) + (desviacion_estandar_jugo_b**2 / n_jugo_b))\n",
        "\n",
        "# Diferencia de medias\n",
        "diferencia_medias = media_jugo_a - media_jugo_b\n",
        "\n",
        "# Intervalo de confianza\n",
        "intervalo_confianza_inferior = diferencia_medias - valor_critico_t * error_estandar_diferencia\n",
        "intervalo_confianza_superior = diferencia_medias + valor_critico_t * error_estandar_diferencia\n",
        "\n",
        "# Imprimir los resultados\n",
        "print(\"Intervalo de Confianza al 99% para la diferencia de medias:\")\n",
        "print(f\"Intervalo: ({intervalo_confianza_inferior}, {intervalo_confianza_superior})\")"
      ],
      "metadata": {
        "colab": {
          "base_uri": "https://localhost:8080/"
        },
        "id": "ILsnZkkwA51I",
        "outputId": "6a98e991-ddce-4d67-f424-307029da0d60"
      },
      "execution_count": null,
      "outputs": [
        {
          "output_type": "stream",
          "name": "stdout",
          "text": [
            "Intervalo de Confianza al 99% para la diferencia de medias:\n",
            "Intervalo: (2.25135169214297, 4.74864830785703)\n"
          ]
        }
      ]
    },
    {
      "cell_type": "markdown",
      "source": [
        "Paso 2.\n",
        "- Realiza una gráfica QQ-plot para determinar si los datos siguen una distribución normal. Recuerda que por defecto el método QQ-plot compara los datos con una normal estandar. Para obtener un correcto ajuste estandariza los datos o cambia los parámetros de la gráfica QQ-plot."
      ],
      "metadata": {
        "id": "C2mpF4JbC2M-"
      }
    },
    {
      "cell_type": "code",
      "source": [
        "# Crear QQ-plot\n",
        "fig, ax = plt.subplots(figsize=(8, 6))\n",
        "sm.qqplot(df.stack(), line='s', ax=ax)\n",
        "ax.set_title(\"QQ-plot para los datos de vitamina C en ambos jugos\")\n",
        "plt.show()"
      ],
      "metadata": {
        "colab": {
          "base_uri": "https://localhost:8080/",
          "height": 564
        },
        "id": "5SCC8MksB3cR",
        "outputId": "44a23087-471f-4c4e-da3e-f669c1d4d73f"
      },
      "execution_count": null,
      "outputs": [
        {
          "output_type": "display_data",
          "data": {
            "text/plain": [
              "<Figure size 800x600 with 1 Axes>"
            ],
            "image/png": "[encoded data removed]"
          },
          "metadata": {}
        }
      ]
    },
    {
      "cell_type": "markdown",
      "source": [
        "Paso 3.\n",
        "- Aplica el test de Kolmogorov Smirnov para asegurarte si los datos son o no normales. Por defecto el test Kolmogorov compara los datos con una normal estandar, cambia los parámetros o estandariza los datos."
      ],
      "metadata": {
        "id": "4WqI2ZZEC6uO"
      }
    },
    {
      "cell_type": "code",
      "source": [
        "# Aplicar el test de Kolmogorov-Smirnov para ambos tipos de jugo\n",
        "ks_statistic_a, p_value_a = kstest(df['Jugo A'], 'norm')\n",
        "ks_statistic_b, p_value_b = kstest(df['Jugo B'], 'norm')\n",
        "\n",
        "# Imprimir los resultados\n",
        "print(f\"Jugo A - KS Statistic: {ks_statistic_a}, p-value: {p_value_a}\")\n",
        "print(f\"Jugo B - KS Statistic: {ks_statistic_b}, p-value: {p_value_b}\")"
      ],
      "metadata": {
        "colab": {
          "base_uri": "https://localhost:8080/"
        },
        "id": "DDiwmSB3DYY5",
        "outputId": "061f38aa-7000-4b29-aa56-1dd036d39ad2"
      },
      "execution_count": null,
      "outputs": [
        {
          "output_type": "stream",
          "name": "stdout",
          "text": [
            "Jugo A - KS Statistic: 1.0, p-value: 0.0\n",
            "Jugo B - KS Statistic: 1.0, p-value: 0.0\n"
          ]
        }
      ]
    },
    {
      "cell_type": "markdown",
      "source": [
        "Paso 4.\n",
        "- En caso de que no sean normales considera que tienen una distribución t-student.\n",
        "\n",
        "\n",
        "Como los p-valores del test de Kolmogorov-Smirnov son bajos (menores a un umbral de significancia), podemos considerar que los datos no siguen una distribución normal. En ese caso, podemos suponer que siguen una distribución t-Student."
      ],
      "metadata": {
        "id": "9enj5JmNEIX1"
      }
    },
    {
      "cell_type": "markdown",
      "source": [
        "Paso 5.\n",
        "- Calcula el intervalo de confianza de acuerdo con la distribución de los datos y el nivel de confianza solicitado."
      ],
      "metadata": {
        "id": "gZ8oghvUEWb1"
      }
    },
    {
      "cell_type": "code",
      "source": [
        "# Nivel de confianza (99%)\n",
        "nivel_confianza = 0.99\n",
        "\n",
        "# Calcular los percentiles de la distribución t-Student\n",
        "percentil_inf = (1 - nivel_confianza) / 2\n",
        "percentil_sup = 1 - percentil_inf\n",
        "\n",
        "# Calcular los intervalos de confianza utilizando la distribución t-Student\n",
        "intervalo_confianza_a = t.interval(nivel_confianza, df=n_jugo_a-1, loc=np.mean(df['Jugo A']), scale=desviacion_estandar_jugo_a / np.sqrt(n_jugo_a))\n",
        "intervalo_confianza_b = t.interval(nivel_confianza, df=n_jugo_b-1, loc=np.mean(df['Jugo B']), scale=desviacion_estandar_jugo_b / np.sqrt(n_jugo_b))\n",
        "\n",
        "# Imprimir los intervalos de confianza\n",
        "print(f\"Intervalo de confianza al {nivel_confianza*100}% para Jugo A: {intervalo_confianza_a}\")\n",
        "print(f\"Intervalo de confianza al {nivel_confianza*100}% para Jugo B: {intervalo_confianza_b}\")"
      ],
      "metadata": {
        "colab": {
          "base_uri": "https://localhost:8080/"
        },
        "id": "yCzCGfwhELbi",
        "outputId": "fb54f410-9070-469b-f0ae-98b77e27f7de"
      },
      "execution_count": null,
      "outputs": [
        {
          "output_type": "stream",
          "name": "stdout",
          "text": [
            "Intervalo de confianza al 99.0% para Jugo A: (22.936141535685323, 24.930525130981344)\n",
            "Intervalo de confianza al 99.0% para Jugo B: (19.611360740938043, 21.255305925728624)\n"
          ]
        }
      ]
    }
  ]
}