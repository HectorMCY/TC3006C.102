{
  "nbformat": 4,
  "nbformat_minor": 0,
  "metadata": {
    "colab": {
      "provenance": []
    },
    "kernelspec": {
      "name": "python3",
      "display_name": "Python 3"
    },
    "language_info": {
      "name": "python"
    }
  },
  "cells": [
    {
      "cell_type": "code",
      "execution_count": 1,
      "metadata": {
        "id": "notfQNh94psv"
      },
      "outputs": [],
      "source": [
        "import numpy as np\n",
        "import pandas as pd"
      ]
    },
    {
      "cell_type": "code",
      "source": [
        "df = pd.read_csv('/content/911-all - 911.csv')\n",
        "df.shape"
      ],
      "metadata": {
        "colab": {
          "base_uri": "https://localhost:8080/"
        },
        "id": "bFRHp3NEeB1P",
        "outputId": "8079e976-2f0e-4f89-c3ea-22ad33d3194a"
      },
      "execution_count": 2,
      "outputs": [
        {
          "output_type": "execute_result",
          "data": {
            "text/plain": [
              "(11688, 14)"
            ]
          },
          "metadata": {},
          "execution_count": 2
        }
      ]
    },
    {
      "cell_type": "code",
      "source": [
        "sierraAmulaDf = df[df['cve.municipio'].isin([11, 32, 34, 37, 52, 54, 88, 90, 102, 106, 110])]\n",
        "sierraAmulaDf = sierraAmulaDf[sierraAmulaDf['clave.carr'].astype(str).str.startswith(('54', '55', '56', '57'))]\n",
        "sierraAmulaDf.shape"
      ],
      "metadata": {
        "colab": {
          "base_uri": "https://localhost:8080/"
        },
        "id": "G4DqN1HweOPx",
        "outputId": "5ee8269c-b6ef-456f-cb5c-adc58d5b326c"
      },
      "execution_count": 5,
      "outputs": [
        {
          "output_type": "execute_result",
          "data": {
            "text/plain": [
              "(19, 14)"
            ]
          },
          "metadata": {},
          "execution_count": 5
        }
      ]
    },
    {
      "cell_type": "code",
      "source": [
        "carreras2223sierraAmulaDf = sierraAmulaDf[sierraAmulaDf['X.periodo']=='p2022-2023']\n",
        "carreras2223sierraAmulaDf.shape"
      ],
      "metadata": {
        "colab": {
          "base_uri": "https://localhost:8080/"
        },
        "id": "MeWAwMBqefwM",
        "outputId": "ec7eadb2-0151-414d-88c0-50168d811542"
      },
      "execution_count": 6,
      "outputs": [
        {
          "output_type": "execute_result",
          "data": {
            "text/plain": [
              "(0, 14)"
            ]
          },
          "metadata": {},
          "execution_count": 6
        }
      ]
    },
    {
      "cell_type": "code",
      "source": [
        "carrerasSierraAmula = sierraAmulaDf.groupby(['carrera'])['nuevo.ingreso'].sum().sort_values(ascending=False)\n",
        "carrerasSierraAmula"
      ],
      "metadata": {
        "colab": {
          "base_uri": "https://localhost:8080/"
        },
        "id": "iQ-BNokiejnn",
        "outputId": "76f904e4-2171-4ad4-a76c-17d76094847b"
      },
      "execution_count": 7,
      "outputs": [
        {
          "output_type": "execute_result",
          "data": {
            "text/plain": [
              "carrera\n",
              "ARQUITECTURA                       105\n",
              "INGENIER√çA INFORM√ÅTICA            85\n",
              "INGENIER√çA INDUSTRIAL              80\n",
              "INGENIER√çA ELECTROMEC√ÅNICA        59\n",
              "INGENIER√çA EN ELECTROMEC√ÅNICA      0\n",
              "LICENCIATURA EN INFORM√ÅTICA         0\n",
              "Name: nuevo.ingreso, dtype: int64"
            ]
          },
          "metadata": {},
          "execution_count": 7
        }
      ]
    }
  ]
}