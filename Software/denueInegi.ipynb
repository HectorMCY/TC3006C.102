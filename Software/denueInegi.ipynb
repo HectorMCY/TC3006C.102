{
  "cells": [
    {
      "cell_type": "code",
      "execution_count": null,
      "metadata": {
        "id": "nfnuV9kKKFig"
      },
      "outputs": [],
      "source": [
        "import pandas as pd\n",
        "import numpy as np"
      ]
    },
    {
      "cell_type": "code",
      "execution_count": null,
      "metadata": {
        "colab": {
          "base_uri": "https://localhost:8080/"
        },
        "id": "e3LAgNw05pDz",
        "outputId": "77ae1cd5-41a7-4709-de13-8f078b1aa9f3"
      },
      "outputs": [
        {
          "name": "stderr",
          "output_type": "stream",
          "text": [
            "<ipython-input-2-209b3d41dbde>:1: DtypeWarning: Columns (35) have mixed types. Specify dtype option on import or set low_memory=False.\n",
            "  denueInegiDf = pd.read_csv('/content/drive/MyDrive/denue_inegi_14_.csv', encoding='latin-1')\n"
          ]
        }
      ],
      "source": [
        "df = pd.read_csv('/content/drive/MyDrive/denue_inegi_14_.csv', encoding='latin-1')"
      ]
    },
    {
      "cell_type": "code",
      "execution_count": null,
      "metadata": {
        "colab": {
          "base_uri": "https://localhost:8080/"
        },
        "id": "cDJVDQsL_edq",
        "outputId": "44e10d71-aba7-4f3c-8ecf-9d0a36f91dc8"
      },
      "outputs": [
        {
          "data": {
            "text/plain": [
              "(378439, 42)"
            ]
          },
          "execution_count": 3,
          "metadata": {},
          "output_type": "execute_result"
        }
      ],
      "source": [
        "df.shape"
      ]
    },
    {
      "cell_type": "code",
      "execution_count": null,
      "metadata": {
        "id": "J7AOPIvC7Wsi"
      },
      "outputs": [],
      "source": [
        "sierraAmulaDf = df[df['cve_mun'].isin([11, 32, 34, 37, 52, 54, 88, 90, 102, 106, 110])]"
      ]
    },
    {
      "cell_type": "code",
      "execution_count": null,
      "metadata": {
        "colab": {
          "base_uri": "https://localhost:8080/"
        },
        "id": "7I3Cr60L9YG5",
        "outputId": "ce1c59f2-612c-4401-8090-2e6f826d81ff"
      },
      "outputs": [
        {
          "data": {
            "text/plain": [
              "(5171, 42)"
            ]
          },
          "execution_count": 5,
          "metadata": {},
          "output_type": "execute_result"
        }
      ],
      "source": [
        "sierraAmulaDf.shape"
      ]
    },
    {
      "cell_type": "code",
      "execution_count": null,
      "metadata": {
        "id": "-FiIkGHN9ZXn"
      },
      "outputs": [],
      "source": [
        "actividadesSierraAmula = sierraAmulaDf.groupby(['nombre_act'])['codigo_act'].count().sort_values(ascending=False).head(10)"
      ]
    },
    {
      "cell_type": "code",
      "execution_count": null,
      "metadata": {
        "colab": {
          "base_uri": "https://localhost:8080/"
        },
        "id": "PR22toyRBJfu",
        "outputId": "8141491d-fd2e-48b8-f097-4ae6f332f338"
      },
      "outputs": [
        {
          "data": {
            "text/plain": [
              "nombre_act\n",
              "Comercio al por menor en tiendas de abarrotes, ultramarinos y misceláneas    509\n",
              "Salones y clínicas de belleza y peluquerías                                  223\n",
              "Restaurantes con servicio de preparación de tacos y tortas                   197\n",
              "Comercio al por menor de ropa, excepto de bebé y lencería                    181\n",
              "Restaurantes con servicio de preparación de antojitos                        102\n",
              "Reparación mecánica en general de automóviles y camiones                      98\n",
              "Comercio al por menor de carnes rojas                                         90\n",
              "Cafeterías, fuentes de sodas, neverías, refresquerías y similares             87\n",
              "Fabricación de productos de herrería                                          84\n",
              "Comercio al por menor de artículos de papelería                               76\n",
              "Name: codigo_act, dtype: int64"
            ]
          },
          "execution_count": 9,
          "metadata": {},
          "output_type": "execute_result"
        }
      ],
      "source": [
        "actividadesSierraAmula"
      ]
    }
  ],
  "metadata": {
    "colab": {
      "provenance": []
    },
    "kernelspec": {
      "display_name": "Python 3",
      "name": "python3"
    },
    "language_info": {
      "name": "python"
    }
  },
  "nbformat": 4,
  "nbformat_minor": 0
}
